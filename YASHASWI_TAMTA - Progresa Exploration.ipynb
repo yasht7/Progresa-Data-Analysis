{
 "cells": [
  {
   "cell_type": "markdown",
   "metadata": {
    "ein.tags": [
     "worksheet-0"
    ],
    "slideshow": {
     "slide_type": "-"
    }
   },
   "source": [
    "# Exploration of the Progresa Data set\n",
    "\n",
    "This will involve the explorations and analysis of the progresa data set in an attempt to quantize the evident effect of the program if any."
   ]
  },
  {
   "cell_type": "markdown",
   "metadata": {
    "ein.tags": [
     "worksheet-0"
    ],
    "slideshow": {
     "slide_type": "-"
    }
   },
   "source": [
    "## Introduction\n",
    "\n",
    "We will be using data from the [Progresa program](http://en.wikipedia.org/wiki/Oportunidades), a government social assistance program in Mexico. This program, as well as the details of its impact, are described in the paper \"[School subsidies for the poor: evaluating the Mexican Progresa poverty program](http://www.sciencedirect.com/science/article/pii/S0304387803001858)\", by Paul Shultz (available on Canvas). This will be used to familiarize ourself with the progresa dataset and get a rough sense of where the data comes from and how was it generated.\n",
    "\n",
    "The goal of this exploration is to implement some of the basic econometric techniques learnt in Machine Learning class to measure the impact of Progresa on secondary school enrollment rates. The timeline of the program was:\n",
    "\n",
    " * Baseline survey conducted in 1997\n",
    " * Intervention begins in 1998, \"Wave 1\" of data collected in 1998\n",
    " * \"Wave 2 of data\" collected in 1999\n",
    " * Evaluation ends in 2000, at which point the control villages were treated. \n",
    " \n",
    "In the data, each row corresponds to an observation taken for a given child for a given year. There are two years of data (1997 and 1998), and just under 40,000 children who are surveyed in each year. For each child-year observation, the following variables are collected:\n",
    "\n",
    "| Variable name | Description|\n",
    "|---------|---------|\n",
    "|year\t  |year in which data is collected\n",
    "|sex\t  |male = 1|\n",
    "|indig\t  |indigenous = 1|\n",
    "|dist_sec |nearest distance to a secondary school|\n",
    "|sc\t      |enrolled in school in year of survey|\n",
    "|grc      |grade enrolled|\n",
    "|fam_n    |family size|\n",
    "|min_dist |\tmin distance to an urban center|\n",
    "|dist_cap |\tmin distance to the capital|\n",
    "|poor     |\tpoor = 1|\n",
    "|progresa |treatment =1|\n",
    "|hohedu\t  |years of schooling of head of household|\n",
    "|hohwag\t  |monthly wages of head of household|\n",
    "|welfare_index|\twelfare index used to classify poor|\n",
    "|hohsex\t  |gender of head of household (male=1)|\n",
    "|hohage   |age of head of household|\n",
    "|age      |years old|\n",
    "|folnum\t  |individual id|\n",
    "|village  |\tvillage id|\n",
    "|sc97\t  |schooling in 1997|"
   ]
  },
  {
   "cell_type": "markdown",
   "metadata": {
    "ein.tags": [
     "worksheet-0"
    ],
    "slideshow": {
     "slide_type": "-"
    }
   },
   "source": [
    "---\n",
    "\n",
    "## Part 1: Descriptive analysis\n",
    "\n",
    "### 1.1\tSummary Statistics\n",
    "\n",
    "Presenting summary statistics (mean and standard deviation) for all of the demographic variables in the dataset (i.e., everything except year, folnum, village). Present these in a single table alphabetized by variable name."
   ]
  },
  {
   "cell_type": "code",
   "execution_count": 1,
   "metadata": {
    "autoscroll": "json-false",
    "collapsed": false,
    "ein.tags": [
     "worksheet-0"
    ],
    "slideshow": {
     "slide_type": "-"
    }
   },
   "outputs": [
    {
     "data": {
      "text/html": [
       "<div>\n",
       "<table border=\"1\" class=\"dataframe\">\n",
       "  <thead>\n",
       "    <tr style=\"text-align: right;\">\n",
       "      <th></th>\n",
       "      <th>Mean</th>\n",
       "      <th>Std</th>\n",
       "    </tr>\n",
       "  </thead>\n",
       "  <tbody>\n",
       "    <tr>\n",
       "      <th>age</th>\n",
       "      <td>11.366460</td>\n",
       "      <td>3.167723</td>\n",
       "    </tr>\n",
       "    <tr>\n",
       "      <th>dist_cap</th>\n",
       "      <td>147.674452</td>\n",
       "      <td>76.062641</td>\n",
       "    </tr>\n",
       "    <tr>\n",
       "      <th>dist_sec</th>\n",
       "      <td>2.418910</td>\n",
       "      <td>2.234094</td>\n",
       "    </tr>\n",
       "    <tr>\n",
       "      <th>fam_n</th>\n",
       "      <td>7.215715</td>\n",
       "      <td>2.352885</td>\n",
       "    </tr>\n",
       "    <tr>\n",
       "      <th>grc</th>\n",
       "      <td>3.963537</td>\n",
       "      <td>2.499046</td>\n",
       "    </tr>\n",
       "    <tr>\n",
       "      <th>grc97</th>\n",
       "      <td>3.705372</td>\n",
       "      <td>2.572371</td>\n",
       "    </tr>\n",
       "    <tr>\n",
       "      <th>hohage</th>\n",
       "      <td>44.436717</td>\n",
       "      <td>11.620296</td>\n",
       "    </tr>\n",
       "    <tr>\n",
       "      <th>hohedu</th>\n",
       "      <td>2.768104</td>\n",
       "      <td>2.656089</td>\n",
       "    </tr>\n",
       "    <tr>\n",
       "      <th>hohsex</th>\n",
       "      <td>0.925185</td>\n",
       "      <td>0.263093</td>\n",
       "    </tr>\n",
       "    <tr>\n",
       "      <th>hohwag</th>\n",
       "      <td>586.985312</td>\n",
       "      <td>788.128563</td>\n",
       "    </tr>\n",
       "    <tr>\n",
       "      <th>indig</th>\n",
       "      <td>0.298324</td>\n",
       "      <td>0.457522</td>\n",
       "    </tr>\n",
       "    <tr>\n",
       "      <th>min_dist</th>\n",
       "      <td>103.447520</td>\n",
       "      <td>42.089168</td>\n",
       "    </tr>\n",
       "    <tr>\n",
       "      <th>poor</th>\n",
       "      <td>0.846498</td>\n",
       "      <td>0.360470</td>\n",
       "    </tr>\n",
       "    <tr>\n",
       "      <th>progresa</th>\n",
       "      <td>0.615663</td>\n",
       "      <td>0.486438</td>\n",
       "    </tr>\n",
       "    <tr>\n",
       "      <th>sc</th>\n",
       "      <td>0.819818</td>\n",
       "      <td>0.384339</td>\n",
       "    </tr>\n",
       "    <tr>\n",
       "      <th>sc97</th>\n",
       "      <td>0.813922</td>\n",
       "      <td>0.389169</td>\n",
       "    </tr>\n",
       "    <tr>\n",
       "      <th>sex</th>\n",
       "      <td>0.512211</td>\n",
       "      <td>0.499851</td>\n",
       "    </tr>\n",
       "    <tr>\n",
       "      <th>welfare_index</th>\n",
       "      <td>690.346564</td>\n",
       "      <td>139.490225</td>\n",
       "    </tr>\n",
       "  </tbody>\n",
       "</table>\n",
       "</div>"
      ],
      "text/plain": [
       "                     Mean         Std\n",
       "age             11.366460    3.167723\n",
       "dist_cap       147.674452   76.062641\n",
       "dist_sec         2.418910    2.234094\n",
       "fam_n            7.215715    2.352885\n",
       "grc              3.963537    2.499046\n",
       "grc97            3.705372    2.572371\n",
       "hohage          44.436717   11.620296\n",
       "hohedu           2.768104    2.656089\n",
       "hohsex           0.925185    0.263093\n",
       "hohwag         586.985312  788.128563\n",
       "indig            0.298324    0.457522\n",
       "min_dist       103.447520   42.089168\n",
       "poor             0.846498    0.360470\n",
       "progresa         0.615663    0.486438\n",
       "sc               0.819818    0.384339\n",
       "sc97             0.813922    0.389169\n",
       "sex              0.512211    0.499851\n",
       "welfare_index  690.346564  139.490225"
      ]
     },
     "execution_count": 1,
     "metadata": {},
     "output_type": "execute_result"
    }
   ],
   "source": [
    "import pandas as pd\n",
    "import numpy as np\n",
    "import matplotlib.pyplot as plt\n",
    "from pylab import *\n",
    "\n",
    "import plotly.plotly as py\n",
    "import plotly.tools as tls\n",
    "import plotly.graph_objs as go\n",
    "%matplotlib inline\n",
    "\n",
    "import warnings\n",
    "warnings.filterwarnings('ignore')\n",
    "\n",
    "progresa_df = pd.read_csv('progresa_sample.csv')\n",
    "\n",
    "# Cleaning the data so it fits the description\n",
    "progresa_df['poor'] = progresa_df['poor'].map({'pobre': 1, 'no pobre': 0})\n",
    "progresa_df['progresa'] = progresa_df['progresa'].map({'basal' : 1, '0':0})\n",
    "\n",
    "# Generating a Dataframe consisting the mean and standard deviation for each required variable.\n",
    "# sorting the columns and storing them in a new dataframe\n",
    "summary = progresa_df.reindex_axis(sorted(progresa_df.columns), axis=1)\n",
    "\n",
    "\n",
    "# Method1: Inversing the Dataframe and then creating a new column.\n",
    "summary = summary.transpose()\n",
    "# Removing non-demographic columns\n",
    "summary.drop(summary.index[[list(summary.index).index(\"year\"), list(summary.index).index(\"folnum\"), list(summary.index).index(\"village\")]], inplace=True)\n",
    "\n",
    "# Calculating Mena and Standar Deviation\n",
    "summary['Mean'] = summary.mean(axis=1)\n",
    "summary['Std'] = summary.std(axis=1)\n",
    "\n",
    "# deleting multiple columns\n",
    "summary.drop(summary.columns[:77250], inplace=True, axis=1)\n",
    "summary"
   ]
  },
  {
   "cell_type": "code",
   "execution_count": 2,
   "metadata": {
    "collapsed": false
   },
   "outputs": [
    {
     "data": {
      "text/plain": [
       "505"
      ]
     },
     "execution_count": 2,
     "metadata": {},
     "output_type": "execute_result"
    }
   ],
   "source": [
    "len(progresa_df['village'].unique())"
   ]
  },
  {
   "cell_type": "markdown",
   "metadata": {},
   "source": [
    "Initial observation from the Data:\n",
    "These columns are to be refactored to match the decribed values:\n",
    "    * 'poor' : pobre(spanish for poor) -> 1 and no pobre -> 0. This indicates whether the \n",
    "    * 'progresa' : basal -> 1 and 0 is as it is. This indicated whether the data is in treatement or control.\n",
    "    \n",
    "From here there are two way to proceed\n",
    "    * Take the transpose of the dataframe and calulate the mean of required columns.\n",
    "    * Slicing and storing the columns values as rows.\n",
    "We have gone for the first method as it is memory conservative and the original Dataframe is unadulterated. Removing the non-demographic columns using their indices. Caluculating Mean and standard deviation as new columns and then removing the remaining 77250 data columns."
   ]
  },
  {
   "cell_type": "markdown",
   "metadata": {
    "ein.tags": [
     "worksheet-0"
    ],
    "slideshow": {
     "slide_type": "-"
    }
   },
   "source": [
    "### 1.2 Differences at baseline\n",
    "\n",
    "Are the baseline (1997) demographic characteristics **for the poor**  different in treatment and control villages? Using a T-Test to determine whether there is a statistically significant difference in the average values of each of the variables in the dataset. Here we focus only on the data from 1997 for individuals who are poor (i.e., poor=='pobre').\n",
    "\n",
    "Results presented in a single table with the following columns and 14 (or so) rows:\n",
    "\n",
    "| Variable name | Average value (Treatment villages) | Average value (Control villages) | Difference (Treat - Control) | p-value |\n",
    "|------|------|------|------|------|\n",
    "|Male  |?     |?     |?     |?     |\n"
   ]
  },
  {
   "cell_type": "code",
   "execution_count": 3,
   "metadata": {
    "autoscroll": "json-false",
    "collapsed": false,
    "ein.tags": [
     "worksheet-0"
    ],
    "slideshow": {
     "slide_type": "-"
    }
   },
   "outputs": [],
   "source": [
    "from scipy import stats\n",
    "from scipy.stats import t"
   ]
  },
  {
   "cell_type": "code",
   "execution_count": 4,
   "metadata": {
    "collapsed": false
   },
   "outputs": [
    {
     "data": {
      "text/plain": [
       "(20222, 21)"
      ]
     },
     "execution_count": 4,
     "metadata": {},
     "output_type": "execute_result"
    }
   ],
   "source": [
    "# Segregating into treatment and Control data\n",
    "treatment_97 = pd.DataFrame(progresa_df[(progresa_df.year == 97) & (progresa_df.poor == 1) & (progresa_df.progresa == 1)])\n",
    "control_97 = pd.DataFrame(progresa_df[(progresa_df.year == 97) & (progresa_df.poor == 1) & (progresa_df.progresa == 0)])\n",
    "\n",
    "treatment_97.shape"
   ]
  },
  {
   "cell_type": "code",
   "execution_count": 5,
   "metadata": {
    "collapsed": false
   },
   "outputs": [
    {
     "data": {
      "text/html": [
       "<div>\n",
       "<table border=\"1\" class=\"dataframe\">\n",
       "  <thead>\n",
       "    <tr style=\"text-align: right;\">\n",
       "      <th>progresa</th>\n",
       "      <th>Variable name</th>\n",
       "      <th>Average value (Treatment villages)</th>\n",
       "      <th>Average value (Control villages)</th>\n",
       "      <th>Difference (Treat - Control)</th>\n",
       "      <th>p-value</th>\n",
       "    </tr>\n",
       "  </thead>\n",
       "  <tbody>\n",
       "    <tr>\n",
       "      <th>0</th>\n",
       "      <td>sex</td>\n",
       "      <td>0.519317</td>\n",
       "      <td>0.505052</td>\n",
       "      <td>2.506686</td>\n",
       "      <td>1.219172e-02</td>\n",
       "    </tr>\n",
       "    <tr>\n",
       "      <th>1</th>\n",
       "      <td>indig</td>\n",
       "      <td>0.325986</td>\n",
       "      <td>0.332207</td>\n",
       "      <td>-1.161714</td>\n",
       "      <td>2.453603e-01</td>\n",
       "    </tr>\n",
       "    <tr>\n",
       "      <th>2</th>\n",
       "      <td>dist_sec</td>\n",
       "      <td>2.453122</td>\n",
       "      <td>2.507662</td>\n",
       "      <td>-2.100433</td>\n",
       "      <td>3.569843e-02</td>\n",
       "    </tr>\n",
       "    <tr>\n",
       "      <th>3</th>\n",
       "      <td>sc</td>\n",
       "      <td>0.822697</td>\n",
       "      <td>0.815186</td>\n",
       "      <td>1.668745</td>\n",
       "      <td>9.517806e-02</td>\n",
       "    </tr>\n",
       "    <tr>\n",
       "      <th>4</th>\n",
       "      <td>grc</td>\n",
       "      <td>3.531599</td>\n",
       "      <td>3.543050</td>\n",
       "      <td>-0.400196</td>\n",
       "      <td>6.890151e-01</td>\n",
       "    </tr>\n",
       "    <tr>\n",
       "      <th>5</th>\n",
       "      <td>fam_n</td>\n",
       "      <td>7.281327</td>\n",
       "      <td>7.302469</td>\n",
       "      <td>-0.794167</td>\n",
       "      <td>4.271039e-01</td>\n",
       "    </tr>\n",
       "    <tr>\n",
       "      <th>6</th>\n",
       "      <td>min_dist</td>\n",
       "      <td>107.152915</td>\n",
       "      <td>103.237854</td>\n",
       "      <td>8.206584</td>\n",
       "      <td>2.358312e-16</td>\n",
       "    </tr>\n",
       "    <tr>\n",
       "      <th>7</th>\n",
       "      <td>dist_cap</td>\n",
       "      <td>150.829074</td>\n",
       "      <td>153.769730</td>\n",
       "      <td>-3.339081</td>\n",
       "      <td>8.415005e-04</td>\n",
       "    </tr>\n",
       "    <tr>\n",
       "      <th>8</th>\n",
       "      <td>hohedu</td>\n",
       "      <td>2.663139</td>\n",
       "      <td>2.590348</td>\n",
       "      <td>2.541229</td>\n",
       "      <td>1.105093e-02</td>\n",
       "    </tr>\n",
       "    <tr>\n",
       "      <th>9</th>\n",
       "      <td>hohwag</td>\n",
       "      <td>544.339544</td>\n",
       "      <td>573.163558</td>\n",
       "      <td>-3.594588</td>\n",
       "      <td>3.253835e-04</td>\n",
       "    </tr>\n",
       "    <tr>\n",
       "      <th>10</th>\n",
       "      <td>welfare_index</td>\n",
       "      <td>655.428377</td>\n",
       "      <td>659.579100</td>\n",
       "      <td>-3.188594</td>\n",
       "      <td>1.431016e-03</td>\n",
       "    </tr>\n",
       "    <tr>\n",
       "      <th>11</th>\n",
       "      <td>hohsex</td>\n",
       "      <td>0.924656</td>\n",
       "      <td>0.922947</td>\n",
       "      <td>0.566312</td>\n",
       "      <td>5.711858e-01</td>\n",
       "    </tr>\n",
       "    <tr>\n",
       "      <th>12</th>\n",
       "      <td>hohage</td>\n",
       "      <td>43.648828</td>\n",
       "      <td>44.276918</td>\n",
       "      <td>-4.775962</td>\n",
       "      <td>1.796243e-06</td>\n",
       "    </tr>\n",
       "    <tr>\n",
       "      <th>13</th>\n",
       "      <td>age</td>\n",
       "      <td>10.716991</td>\n",
       "      <td>10.742023</td>\n",
       "      <td>-0.708630</td>\n",
       "      <td>4.785594e-01</td>\n",
       "    </tr>\n",
       "    <tr>\n",
       "      <th>14</th>\n",
       "      <td>grc97</td>\n",
       "      <td>3.531599</td>\n",
       "      <td>3.543050</td>\n",
       "      <td>-0.400196</td>\n",
       "      <td>6.890151e-01</td>\n",
       "    </tr>\n",
       "    <tr>\n",
       "      <th>15</th>\n",
       "      <td>sc97</td>\n",
       "      <td>0.822697</td>\n",
       "      <td>0.815186</td>\n",
       "      <td>1.668745</td>\n",
       "      <td>9.517806e-02</td>\n",
       "    </tr>\n",
       "  </tbody>\n",
       "</table>\n",
       "</div>"
      ],
      "text/plain": [
       "progresa  Variable name  Average value (Treatment villages)  \\\n",
       "0                   sex                            0.519317   \n",
       "1                 indig                            0.325986   \n",
       "2              dist_sec                            2.453122   \n",
       "3                    sc                            0.822697   \n",
       "4                   grc                            3.531599   \n",
       "5                 fam_n                            7.281327   \n",
       "6              min_dist                          107.152915   \n",
       "7              dist_cap                          150.829074   \n",
       "8                hohedu                            2.663139   \n",
       "9                hohwag                          544.339544   \n",
       "10        welfare_index                          655.428377   \n",
       "11               hohsex                            0.924656   \n",
       "12               hohage                           43.648828   \n",
       "13                  age                           10.716991   \n",
       "14                grc97                            3.531599   \n",
       "15                 sc97                            0.822697   \n",
       "\n",
       "progresa  Average value (Control villages)  Difference (Treat - Control)  \\\n",
       "0                                 0.505052                      2.506686   \n",
       "1                                 0.332207                     -1.161714   \n",
       "2                                 2.507662                     -2.100433   \n",
       "3                                 0.815186                      1.668745   \n",
       "4                                 3.543050                     -0.400196   \n",
       "5                                 7.302469                     -0.794167   \n",
       "6                               103.237854                      8.206584   \n",
       "7                               153.769730                     -3.339081   \n",
       "8                                 2.590348                      2.541229   \n",
       "9                               573.163558                     -3.594588   \n",
       "10                              659.579100                     -3.188594   \n",
       "11                                0.922947                      0.566312   \n",
       "12                               44.276918                     -4.775962   \n",
       "13                               10.742023                     -0.708630   \n",
       "14                                3.543050                     -0.400196   \n",
       "15                                0.815186                      1.668745   \n",
       "\n",
       "progresa       p-value  \n",
       "0         1.219172e-02  \n",
       "1         2.453603e-01  \n",
       "2         3.569843e-02  \n",
       "3         9.517806e-02  \n",
       "4         6.890151e-01  \n",
       "5         4.271039e-01  \n",
       "6         2.358312e-16  \n",
       "7         8.415005e-04  \n",
       "8         1.105093e-02  \n",
       "9         3.253835e-04  \n",
       "10        1.431016e-03  \n",
       "11        5.711858e-01  \n",
       "12        1.796243e-06  \n",
       "13        4.785594e-01  \n",
       "14        6.890151e-01  \n",
       "15        9.517806e-02  "
      ]
     },
     "execution_count": 5,
     "metadata": {},
     "output_type": "execute_result"
    }
   ],
   "source": [
    "# Selecting rows where poor=1 and the year=97, and then grouping by 'progresa' column\n",
    "ttest_df = progresa_df[(progresa_df.year == 97) & (progresa_df.poor == 1)].groupby('progresa').mean()\n",
    "ttest_df.drop(ttest_df.columns[[0,9,16,17]], axis =1,inplace=True)\n",
    "\n",
    "ttest_df = ttest_df.transpose()\n",
    "# swapping columns to match the structure of the required table\n",
    "ttest_df = ttest_df[[1,0]]\n",
    "\n",
    "# Resetting Index\n",
    "ttest_df.reset_index(level=0, inplace=True)\n",
    "ttest_df.rename(columns={'index' : 'Variable name', 0: 'Average value (Control villages)', 1: 'Average value (Treatment villages)'}, inplace=True)\n",
    "\n",
    "# This can be used to null the column name for a much cleaner output.\n",
    "# ttest_df.columns.names = ['']\n",
    "\n",
    "# List of all Variables\n",
    "var_list = list(ttest_df['Variable name'])\n",
    "\n",
    "# Calculating T test for the Treatment, Control\n",
    "tt = list(stats.ttest_ind(treatment_97[var_list], control_97[var_list], nan_policy='omit'))\n",
    "\n",
    "# Adding the remaining two columns.\n",
    "ttest_df['Difference (Treat - Control)'] = tt[0]\n",
    "ttest_df['p-value'] = tt[1]\n",
    "\n",
    "# for a better look at the insignificant data with respect to the value of p\n",
    "# ttest_df['p<0.05'] = ttest_df['p-value'] < 0.05\n",
    "\n",
    "ttest_df"
   ]
  },
  {
   "cell_type": "markdown",
   "metadata": {},
   "source": [
    "Here we're applying a double sided t test, in an attempt to unearth any significant statistical diffrences between control and treatment groups.\n",
    "\n",
    "Analysis:\n",
    "\n",
    "**Aim:**\n",
    "    To check for significant statistical differences between the baseline of both treatment and control groups before the treatment began.\n",
    "\n",
    "**How were the groups selected:**\n",
    "    *source* - Translated from Spanish. SEDESOL, Más Oportunidades para las Familias pobres - Primeros Avances, 393-394z\n",
    "    \n",
    "    \"The design of the impact evaluation of Progresa in communities and households is quasi-experimental...To undertake this component of the evaluation, a random sample of communities with 'high' or 'very high' degrees of marginalization were selected which would be incorporated into the program during Phase II (November 1997) and which would serve as the [treatment] communities...Another sample of communities with similar characteristics was randomly designated from those that could have been the object of later selection, and that could function as controls...the size of the sample was estimated starting from a universe of 4,546 localities to choose 330 base localities, and from a universe of 1,850 to choose 191 control localities, using a distribution proportional to the size of the locality.\"\n",
    "\n",
    " From here we can observe that the treatment and control groups were randomly segregated.\n",
    "\n",
    "**T Test:**\n",
    "    The output of this test are the t-value and the p-value.\n",
    "    *T value* can be labeled as a simple signal to noise ratio. When the t value is greater than the critical value of the data we then, reject the null hypothesis which deems no statistical difference between the two samples/vriables. Vice-versa when its less that the critical value.\n",
    "    \n",
    "**Conclusion:** the following variables have displayed statistically significant differences in average values at the baseline: *Sex* (gender), *dist_sec* (nearest distance to a secondary school), *min_dist* (min distance to an urban center), *dist_cap* (min distance to the capital), *hohedu* (years of schooling of head of household), *hohwag* (monthly wages of head of household), *welfare_index* (welfare index used to classify poor), *hohage* (age of head of household). As these have p values < 0.05.\n"
   ]
  },
  {
   "cell_type": "markdown",
   "metadata": {
    "ein.tags": [
     "worksheet-0"
    ],
    "slideshow": {
     "slide_type": "-"
    }
   },
   "source": [
    "### 1.3 Interpretation"
   ]
  },
  {
   "cell_type": "markdown",
   "metadata": {
    "autoscroll": "json-false",
    "collapsed": false,
    "ein.tags": [
     "worksheet-0"
    ],
    "slideshow": {
     "slide_type": "-"
    }
   },
   "source": [
    "**A: Are there statistically significant differences between treatment and control villages as baseline?** \n",
    "Observing the output of the T-Test the statistical dofferences are eveident between the two samples of treatment and control. Especially in the following variables.\n",
    "    - Sex, dsit_sec, min_dist, dist_cap, hohedu, hohwag, welfare_index, hohage\n",
    "\n",
    "**B: Why does it matter if there are differences at baseline?**\n",
    "The differences in Baseline tell us that the samples, which were randomly picked and segregated between Treatment and Control were not perfectly random and were statistically different from each other. The basis of Treatment and control strategy is to observe the effect of a particular treatment on a group of indivisuals vs those which did not recieve the treatment. This requires us to start at an indistinguishable baseline in order to record accurate causal analysis and observe genuine patterns.\n",
    "\n",
    "**C: What does this imply about how to measure the impact of the treatment?**\n",
    "From the above analysis we can observe that the two groups are statistically different even before the treatment commences. Therefore, we can assert that the segreagation performed randomly is flawed. Therefore we should come up with some other alternative which will help us segregate the population into two statistically indifferent groups. Therfore, instead of randomizing the segregation, we can use *Stratified Sampling*. This method can definitely help us achieve the required precision with the same sample size."
   ]
  },
  {
   "cell_type": "markdown",
   "metadata": {
    "ein.tags": [
     "worksheet-0"
    ],
    "slideshow": {
     "slide_type": "-"
    }
   },
   "source": [
    "### 1.4 Graphical exploration, part 1\n",
    "\n",
    "For each level of household head education, computing the average enrollment rate in 1997. Creating a scatterplot that shows this relationship."
   ]
  },
  {
   "cell_type": "code",
   "execution_count": 6,
   "metadata": {
    "autoscroll": "json-false",
    "collapsed": false,
    "ein.tags": [
     "worksheet-0"
    ],
    "slideshow": {
     "slide_type": "-"
    }
   },
   "outputs": [
    {
     "name": "stdout",
     "output_type": "stream",
     "text": [
      "    hohedu        sc  count\n",
      "0        0  0.776137   9957\n",
      "1        1  0.768537   2549\n",
      "2        2  0.794552   5617\n",
      "3        3  0.802956   7374\n",
      "4        4  0.842951   2738\n",
      "5        5  0.849835   1212\n",
      "6        6  0.878469   5225\n",
      "7        7  0.889535    172\n",
      "8        8  0.900000    290\n",
      "9        9  0.925023   1067\n",
      "10      10  0.865385     52\n",
      "11      11  0.974359     39\n",
      "12      12  0.982955    176\n",
      "13      13  0.959459     74\n",
      "14      14  0.880952     42\n",
      "15      15  0.900000     30\n",
      "16      16  0.941176     34\n",
      "17      17  0.933333     15\n",
      "18      18  1.000000     24\n",
      "19      20  0.500000      2\n"
     ]
    },
    {
     "data": {
      "text/html": [
       "<iframe id=\"igraph\" scrolling=\"no\" style=\"border:none;\" seamless=\"seamless\" src=\"https://plot.ly/~yasht7/6.embed\" height=\"525px\" width=\"100%\"></iframe>"
      ],
      "text/plain": [
       "<plotly.tools.PlotlyDisplay object>"
      ]
     },
     "execution_count": 6,
     "metadata": {},
     "output_type": "execute_result"
    }
   ],
   "source": [
    "# calculating the enrollment rate.\n",
    "enrate = pd.DataFrame(progresa_df[(progresa_df.year == 97)].groupby('hohedu').mean()['sc'])\n",
    "\n",
    "# calculating the frequency of observations for each level of household education.\n",
    "countrate = pd.DataFrame(progresa_df[(progresa_df.year == 97)].groupby('hohedu').count()['sc'])\n",
    "countrate.rename(columns={'sc':'count'}, inplace='True')\n",
    "countrate.reset_index(level=0, inplace=True)\n",
    "enrate.reset_index(level=0, inplace=True)\n",
    "\n",
    "# merging the data frames\n",
    "enrate = enrate.merge(countrate, on='hohedu')\n",
    "\n",
    "print(enrate)\n",
    "\n",
    "# plotting\n",
    "matplotlib.style.use('ggplot')\n",
    "\n",
    "trace1 = go.Scatter(\n",
    "    x = list(enrate['hohedu']),\n",
    "    y = list(enrate['sc']),\n",
    "    mode = 'markers',\n",
    "    marker=dict(\n",
    "        size='15',\n",
    "        color=list(enrate['count']),\n",
    "        showscale=True,\n",
    "        colorscale='Viridis'\n",
    "    )\n",
    ")\n",
    "\n",
    "layout = go.Layout(\n",
    "    xaxis=dict(\n",
    "        autorange=True,\n",
    "#         showgrid=False,\n",
    "        zeroline=False,\n",
    "        showline=True,\n",
    "        autotick=True,\n",
    "        ticks='',\n",
    "    ),\n",
    "    yaxis=dict(\n",
    "        autorange=True,\n",
    "#         showgrid=False,\n",
    "        zeroline=False,\n",
    "        showline=True,\n",
    "        autotick=True,\n",
    "        ticks='',\n",
    "    )\n",
    ")\n",
    "\n",
    "data = [trace1]\n",
    "sc_enr = go.Figure(data=data, layout=layout)\n",
    "py.iplot(sc_enr, filename='Progresa: Enrollment vs Household education')\n",
    "\n",
    "# plt.scatter(list(enrate['hohedu']), list(enrate['sc']), c=list(enrate['count']), s=80, edgecolor='blue')\n",
    "# plt.title('Average enrollment rate Vs Household education')\n",
    "# plt.xlabel('Number of household education years')\n",
    "# plt.colorbar()\n",
    "# plt.ylabel('Average Enrollment rate')"
   ]
  },
  {
   "cell_type": "code",
   "execution_count": 7,
   "metadata": {
    "collapsed": false
   },
   "outputs": [
    {
     "data": {
      "text/plain": [
       "45238    0.0\n",
       "45239    NaN\n",
       "45240    1.0\n",
       "45241    NaN\n",
       "Name: sc, dtype: float64"
      ]
     },
     "execution_count": 7,
     "metadata": {},
     "output_type": "execute_result"
    }
   ],
   "source": [
    "progresa_df[(progresa_df.hohedu==20)].sc"
   ]
  },
  {
   "cell_type": "markdown",
   "metadata": {},
   "source": [
    "The plot obtained above alomst conforms to the general norm of an increasing relationship. I have also considered the frequency of the data as well and mapped the scatter density accordingly. Higher frequency, higher the density, and darker the color. This helps us to get a general sense of data and disregard outliers when making conlcusions. The increasing nature of the plot drops at points 10, 14 and then drastically at 20. Referring to the count curve we can see that the point 20 has only 2 data points in the average compared to 9000+ of 0 years. On further expounding on the data we found that we have 4 values corresponding to the 'hohedu' at 20. Out of which 2 are NaN and one is 0 and the other is 1. SO the data points are not sufficient enough to be considered.\n",
    "As the years increase we can also see the decrease in the number of values. Therfore, we can set up a threshold to be near the mode of the data, instead of the mean and disregard any count value less than this threshold.\n",
    "Doing this, we can conclude, mostly an increasing trend throughout, and strictly till the household education years equals 10. But the maximum value is obtained at 18 years"
   ]
  },
  {
   "cell_type": "markdown",
   "metadata": {
    "ein.tags": [
     "worksheet-0"
    ],
    "slideshow": {
     "slide_type": "-"
    }
   },
   "source": [
    "### 1.5 Graphical exploration, part 2\n",
    "\n",
    "Creating a histogram of village enrollment rates **among poor households in treated villages**, before and after treatment. Specifically, for each village, calculating the average rate of enrollment of poor households in treated villages in 1997, then compute the average rate of enrollment of poor households in treated villages in 1998. Create two separate histograms showing the distribution of these average enrollments rates, one histogram for 1997 and one histogram for 1998. On each histogram, draw a vertical line that intersects the x-axis at the average value (across all households).\n"
   ]
  },
  {
   "cell_type": "code",
   "execution_count": 8,
   "metadata": {
    "autoscroll": "json-false",
    "collapsed": false,
    "ein.tags": [
     "worksheet-0"
    ],
    "slideshow": {
     "slide_type": "-"
    }
   },
   "outputs": [
    {
     "data": {
      "image/png": "[encoded data removed]",
      "text/plain": [
       "<matplotlib.figure.Figure at 0x1dbd4296cc0>"
      ]
     },
     "metadata": {},
     "output_type": "display_data"
    },
    {
     "name": "stdout",
     "output_type": "stream",
     "text": [
      "\n",
      "The mean enrollment BEFORE treatment is:  0.8138394110596501\n",
      "The mean enrollment AFTER treatment is:  0.8295362042630732 \n",
      "\n",
      "The output of T test on the above values are:\n",
      " Ttest_indResult(statistic=-2.0157134865156379, pvalue=0.04424870036572115)\n"
     ]
    }
   ],
   "source": [
    "# Preparing the Data for plot.\n",
    "# Before treatment data\n",
    "before_t = pd.DataFrame(progresa_df[(progresa_df.year == 97) & (progresa_df.progresa == 1) & (progresa_df.poor ==1)].groupby('village').mean()['sc'])\n",
    "before_t.reset_index(level=0, inplace=True)\n",
    "# After treatment data\n",
    "after_t = pd.DataFrame(progresa_df[(progresa_df.year == 98) & (progresa_df.progresa == 1) & (progresa_df.poor ==1)].groupby('village').mean()['sc'])\n",
    "after_t.reset_index(level=0, inplace=True)\n",
    "\n",
    "\n",
    "fig = plt.figure()\n",
    "\n",
    "# Histogram before the Treatment\n",
    "ax1 = fig.add_subplot(121)\n",
    "ax1.hist(before_t['sc'], color = \"purple\", edgecolor='gold')\n",
    "xlabel(\"Avg Enrollment Rates in 1997\")\n",
    "ylabel(\"Number of Villages\")\n",
    "# setting the limits for axes, for better comparision\n",
    "ax1.set_ylim([0,90])\n",
    "ax1.set_xlim([0.4,1.1])\n",
    "plt.axvline(before_t['sc'].mean(), color='gold', linestyle='dashed', linewidth=3)\n",
    "\n",
    "\n",
    "# Histogram before the Treatment\n",
    "ax2 = fig.add_subplot(122)\n",
    "ax2.hist(after_t['sc'], color = 'gold', edgecolor='purple')\n",
    "xlabel(\"Avg Enrollment Rates in 1998\")\n",
    "# setting the limits for axes, for better comparision\n",
    "ax2.set_xlim([0.4,1.1])\n",
    "plt.axvline(after_t['sc'].mean(), color='purple', linestyle='dashed', linewidth=2)\n",
    "plt.show()\n",
    "\n",
    "print()\n",
    "print(\"The mean enrollment BEFORE treatment is: \", before_t['sc'].mean())\n",
    "print(\"The mean enrollment AFTER treatment is: \", after_t['sc'].mean(), \"\\n\")\n",
    "\n",
    "# just like above we can see the differences in the data. using a T test.\n",
    "print(\"The output of T test on the above values are:\\n\", stats.ttest_ind(before_t['sc'], after_t['sc'], nan_policy='omit'))"
   ]
  },
  {
   "cell_type": "markdown",
   "metadata": {},
   "source": [
    "Here is the result, which will tell us what effect did the treatment have on the sample population. \n",
    "First set of observations include \n",
    "    - The noticable dip in number of villages with 'average enrollment rate' between 0.65 and 0.75. \n",
    "    - This is accompanies by an increase in villages with 0.4 'average enrollment rate' from 0 to 3.\n",
    "    - A noticable increase in #villages with 'avg enrol rate' > 0.75\n",
    "Now, the *p-value* obtained from the t test is 0.04 < 0.05. This means that there is a statitical difference between them. But given that, difference is the measure of efectiveness of the treatment, we should be expecting a much better *p-value* which is farther from the 0.05 mark than the one obtained."
   ]
  },
  {
   "cell_type": "markdown",
   "metadata": {
    "ein.tags": [
     "worksheet-0"
    ],
    "slideshow": {
     "slide_type": "-"
    }
   },
   "source": [
    "## Part 2: Measuring Impact\n",
    "\n",
    "### 2.1 Simple differences: T-test\n",
    "\n",
    "Estimating the impact of Progresa using \"simple differences.\" Restricting to data from 1998 (after treatment).\n",
    "\n",
    "* calculating the average enrollment rate among **poor** households in the Treatment villages and the average enrollment rate among **poor** households in the control villages.\n",
    "* Determining which difference estimator in Schultz (2004) does this approach correspond to?\n",
    "* Using a t-test to determine if this difference is statistically significant."
   ]
  },
  {
   "cell_type": "code",
   "execution_count": 9,
   "metadata": {
    "autoscroll": "json-false",
    "collapsed": false,
    "ein.tags": [
     "worksheet-0"
    ],
    "slideshow": {
     "slide_type": "-"
    }
   },
   "outputs": [
    {
     "name": "stdout",
     "output_type": "stream",
     "text": [
      "The average enrollement rate for poor households in the year 98 is as follows:\n",
      "Treatment villages:  0.846479121395\n",
      "Control villages:  0.80763695673\n",
      "\n",
      "The output of T test is as follows:\n",
      " Ttest_indResult(statistic=8.3587205674183735, pvalue=6.6363444473781018e-17)\n"
     ]
    }
   ],
   "source": [
    "en_rate = pd.DataFrame(progresa_df[(progresa_df.poor==1) & (progresa_df.year==98)].groupby('progresa').mean()['sc'])\n",
    "print('The average enrollement rate for poor households in the year 98 is as follows:')\n",
    "print('Treatment villages: ', en_rate.sc[1])\n",
    "print('Control villages: ', en_rate.sc[0])\n",
    "en_rate.reset_index(level=0, inplace=True)\n",
    "\n",
    "# Applying T-test to measure the statistical difference\n",
    "treatment_98 = pd.DataFrame(progresa_df[(progresa_df.poor==1) & (progresa_df.progresa==1) & (progresa_df.year==98)])\n",
    "control_98 = pd.DataFrame(progresa_df[(progresa_df.poor==1) & (progresa_df.progresa==0)& (progresa_df.year==98)])\n",
    "\n",
    "tt2 = stats.ttest_ind(treatment_98['sc'], control_98['sc'], nan_policy='omit')\n",
    "print('\\nThe output of T test is as follows:\\n', tt2)"
   ]
  },
  {
   "cell_type": "markdown",
   "metadata": {},
   "source": [
    "The difference estimate used in Schultz(2004) is a Difference in difference estimator also called diff-in-diff. In this observation we take in the differences in two samples, treatment and control, between intervals before and after. This way we can eradicate any differences that occured in the samples regardless of any intervention.\n",
    "\n",
    "The obtained p value is very much less than 0.05 therfore, the difference is not much significant."
   ]
  },
  {
   "cell_type": "markdown",
   "metadata": {
    "ein.tags": [
     "worksheet-0"
    ],
    "slideshow": {
     "slide_type": "-"
    }
   },
   "source": [
    "### 2.2 Simple differences: Regression\n",
    "\n",
    "Estimating the effects of Progresa on enrollment using a regression model, by regressing the 1998 enrollment rates **of the poor** on treatment assignment."
   ]
  },
  {
   "cell_type": "code",
   "execution_count": 10,
   "metadata": {
    "autoscroll": "json-false",
    "collapsed": false,
    "ein.tags": [
     "worksheet-0"
    ],
    "slideshow": {
     "slide_type": "-"
    }
   },
   "outputs": [
    {
     "data": {
      "text/html": [
       "<table class=\"simpletable\">\n",
       "<caption>OLS Regression Results</caption>\n",
       "<tr>\n",
       "  <th>Dep. Variable:</th>           <td>sc</td>        <th>  R-squared:         </th> <td>   0.003</td> \n",
       "</tr>\n",
       "<tr>\n",
       "  <th>Model:</th>                   <td>OLS</td>       <th>  Adj. R-squared:    </th> <td>   0.003</td> \n",
       "</tr>\n",
       "<tr>\n",
       "  <th>Method:</th>             <td>Least Squares</td>  <th>  F-statistic:       </th> <td>   69.87</td> \n",
       "</tr>\n",
       "<tr>\n",
       "  <th>Date:</th>             <td>Mon, 08 May 2017</td> <th>  Prob (F-statistic):</th> <td>6.64e-17</td> \n",
       "</tr>\n",
       "<tr>\n",
       "  <th>Time:</th>                 <td>02:19:22</td>     <th>  Log-Likelihood:    </th> <td> -11926.</td> \n",
       "</tr>\n",
       "<tr>\n",
       "  <th>No. Observations:</th>      <td> 27450</td>      <th>  AIC:               </th> <td>2.386e+04</td>\n",
       "</tr>\n",
       "<tr>\n",
       "  <th>Df Residuals:</th>          <td> 27448</td>      <th>  BIC:               </th> <td>2.387e+04</td>\n",
       "</tr>\n",
       "<tr>\n",
       "  <th>Df Model:</th>              <td>     1</td>      <th>                     </th>     <td> </td>    \n",
       "</tr>\n",
       "<tr>\n",
       "  <th>Covariance Type:</th>      <td>nonrobust</td>    <th>                     </th>     <td> </td>    \n",
       "</tr>\n",
       "</table>\n",
       "<table class=\"simpletable\">\n",
       "<tr>\n",
       "      <td></td>         <th>coef</th>     <th>std err</th>      <th>t</th>      <th>P>|t|</th> <th>[95.0% Conf. Int.]</th> \n",
       "</tr>\n",
       "<tr>\n",
       "  <th>Intercept</th> <td>    0.8076</td> <td>    0.004</td> <td>  220.676</td> <td> 0.000</td> <td>    0.800     0.815</td>\n",
       "</tr>\n",
       "<tr>\n",
       "  <th>progresa</th>  <td>    0.0388</td> <td>    0.005</td> <td>    8.359</td> <td> 0.000</td> <td>    0.030     0.048</td>\n",
       "</tr>\n",
       "</table>\n",
       "<table class=\"simpletable\">\n",
       "<tr>\n",
       "  <th>Omnibus:</th>       <td>7638.939</td> <th>  Durbin-Watson:     </th> <td>   1.734</td> \n",
       "</tr>\n",
       "<tr>\n",
       "  <th>Prob(Omnibus):</th>  <td> 0.000</td>  <th>  Jarque-Bera (JB):  </th> <td>15767.534</td>\n",
       "</tr>\n",
       "<tr>\n",
       "  <th>Skew:</th>           <td>-1.767</td>  <th>  Prob(JB):          </th> <td>    0.00</td> \n",
       "</tr>\n",
       "<tr>\n",
       "  <th>Kurtosis:</th>       <td> 4.140</td>  <th>  Cond. No.          </th> <td>    3.01</td> \n",
       "</tr>\n",
       "</table>"
      ],
      "text/plain": [
       "<class 'statsmodels.iolib.summary.Summary'>\n",
       "\"\"\"\n",
       "                            OLS Regression Results                            \n",
       "==============================================================================\n",
       "Dep. Variable:                     sc   R-squared:                       0.003\n",
       "Model:                            OLS   Adj. R-squared:                  0.003\n",
       "Method:                 Least Squares   F-statistic:                     69.87\n",
       "Date:                Mon, 08 May 2017   Prob (F-statistic):           6.64e-17\n",
       "Time:                        02:19:22   Log-Likelihood:                -11926.\n",
       "No. Observations:               27450   AIC:                         2.386e+04\n",
       "Df Residuals:                   27448   BIC:                         2.387e+04\n",
       "Df Model:                           1                                         \n",
       "Covariance Type:            nonrobust                                         \n",
       "==============================================================================\n",
       "                 coef    std err          t      P>|t|      [95.0% Conf. Int.]\n",
       "------------------------------------------------------------------------------\n",
       "Intercept      0.8076      0.004    220.676      0.000         0.800     0.815\n",
       "progresa       0.0388      0.005      8.359      0.000         0.030     0.048\n",
       "==============================================================================\n",
       "Omnibus:                     7638.939   Durbin-Watson:                   1.734\n",
       "Prob(Omnibus):                  0.000   Jarque-Bera (JB):            15767.534\n",
       "Skew:                          -1.767   Prob(JB):                         0.00\n",
       "Kurtosis:                       4.140   Cond. No.                         3.01\n",
       "==============================================================================\n",
       "\n",
       "Warnings:\n",
       "[1] Standard Errors assume that the covariance matrix of the errors is correctly specified.\n",
       "\"\"\""
      ]
     },
     "execution_count": 10,
     "metadata": {},
     "output_type": "execute_result"
    }
   ],
   "source": [
    "import statsmodels.formula.api as smf\n",
    "en_regr = progresa_df[(progresa_df.year==98) & (progresa_df.poor ==1)]\n",
    "\n",
    "regr = smf.ols('sc ~ progresa', data= en_regr).fit()\n",
    "regr.summary()"
   ]
  },
  {
   "cell_type": "markdown",
   "metadata": {},
   "source": [
    "**Observations:**\n",
    "\n",
    "**Based on this model, how much did Progresa increase the likelihood of a child enrolling?**\n",
    "    We can observe that the parameter associated with progresa is positive, hence an increasing relationship. The magnitude of this parameter found is 0.0388, the magnitude of the intercept is found to be 0.8076. Therefore Progresa increases the likelihood of enrollment by 0.0388 i.e. likelihood of enrollment without progresa is 0.8076 and with progresa is 0.8464\n",
    "\n",
    "**How does your regression estimate compare to your t-test estimate from part 2.1?**\n",
    "    The regression model here validates the values obtained in 2.1. Avg. enrolleent rate of control villages(0.80) is the same while the avg. enrollment rae of treatment, according to the model is given as 0.80 + 0.0388 = 0.84, which is same as well.\n",
    "\n",
    "**Based on this regression model, can we reject the null hypothesis that the treatment effects are zero?**\n",
    "    No. The regression model tells us that the p value obtained is not greater than 0.05 hence we cannot reject the null hypothesis.\n",
    "\n",
    "**What is the counterfactual assumption underlying this regression?**\n",
    "    The counter factual assumption underlying this regression is that the avg. enrollement rate of the treatment villages would be same as that in the control villages."
   ]
  },
  {
   "cell_type": "code",
   "execution_count": 11,
   "metadata": {
    "collapsed": false
   },
   "outputs": [
    {
     "data": {
      "text/html": [
       "<table class=\"simpletable\">\n",
       "<caption>OLS Regression Results</caption>\n",
       "<tr>\n",
       "  <th>Dep. Variable:</th>           <td>sc</td>        <th>  R-squared:         </th>  <td>   1.000</td> \n",
       "</tr>\n",
       "<tr>\n",
       "  <th>Model:</th>                   <td>OLS</td>       <th>  Adj. R-squared:    </th>  <td>   1.000</td> \n",
       "</tr>\n",
       "<tr>\n",
       "  <th>Method:</th>             <td>Least Squares</td>  <th>  F-statistic:       </th>  <td>3.253e+30</td>\n",
       "</tr>\n",
       "<tr>\n",
       "  <th>Date:</th>             <td>Mon, 08 May 2017</td> <th>  Prob (F-statistic):</th>   <td>  0.00</td>  \n",
       "</tr>\n",
       "<tr>\n",
       "  <th>Time:</th>                 <td>02:19:22</td>     <th>  Log-Likelihood:    </th> <td>2.0017e+06</td>\n",
       "</tr>\n",
       "<tr>\n",
       "  <th>No. Observations:</th>      <td> 68797</td>      <th>  AIC:               </th> <td>-4.003e+06</td>\n",
       "</tr>\n",
       "<tr>\n",
       "  <th>Df Residuals:</th>          <td> 68795</td>      <th>  BIC:               </th> <td>-4.003e+06</td>\n",
       "</tr>\n",
       "<tr>\n",
       "  <th>Df Model:</th>              <td>     1</td>      <th>                     </th>      <td> </td>    \n",
       "</tr>\n",
       "<tr>\n",
       "  <th>Covariance Type:</th>      <td>nonrobust</td>    <th>                     </th>      <td> </td>    \n",
       "</tr>\n",
       "</table>\n",
       "<table class=\"simpletable\">\n",
       "<tr>\n",
       "      <td></td>         <th>coef</th>     <th>std err</th>      <th>t</th>      <th>P>|t|</th> <th>[95.0% Conf. Int.]</th> \n",
       "</tr>\n",
       "<tr>\n",
       "  <th>Intercept</th> <td>    0.3333</td> <td> 1.85e-16</td> <td>  1.8e+15</td> <td> 0.000</td> <td>    0.333     0.333</td>\n",
       "</tr>\n",
       "<tr>\n",
       "  <th>v1</th>        <td>   -0.3333</td> <td> 3.44e-16</td> <td> -9.7e+14</td> <td> 0.000</td> <td>   -0.333    -0.333</td>\n",
       "</tr>\n",
       "<tr>\n",
       "  <th>v3</th>        <td>    0.6667</td> <td> 2.29e-16</td> <td> 2.91e+15</td> <td> 0.000</td> <td>    0.667     0.667</td>\n",
       "</tr>\n",
       "</table>\n",
       "<table class=\"simpletable\">\n",
       "<tr>\n",
       "  <th>Omnibus:</th>       <td>17225.930</td> <th>  Durbin-Watson:     </th> <td>   1.021</td> \n",
       "</tr>\n",
       "<tr>\n",
       "  <th>Prob(Omnibus):</th>  <td> 0.000</td>   <th>  Jarque-Bera (JB):  </th> <td>33456.389</td>\n",
       "</tr>\n",
       "<tr>\n",
       "  <th>Skew:</th>           <td> 1.664</td>   <th>  Prob(JB):          </th> <td>    0.00</td> \n",
       "</tr>\n",
       "<tr>\n",
       "  <th>Kurtosis:</th>       <td> 3.770</td>   <th>  Cond. No.          </th> <td>1.92e+16</td> \n",
       "</tr>\n",
       "</table>"
      ],
      "text/plain": [
       "<class 'statsmodels.iolib.summary.Summary'>\n",
       "\"\"\"\n",
       "                            OLS Regression Results                            \n",
       "==============================================================================\n",
       "Dep. Variable:                     sc   R-squared:                       1.000\n",
       "Model:                            OLS   Adj. R-squared:                  1.000\n",
       "Method:                 Least Squares   F-statistic:                 3.253e+30\n",
       "Date:                Mon, 08 May 2017   Prob (F-statistic):               0.00\n",
       "Time:                        02:19:22   Log-Likelihood:             2.0017e+06\n",
       "No. Observations:               68797   AIC:                        -4.003e+06\n",
       "Df Residuals:                   68795   BIC:                        -4.003e+06\n",
       "Df Model:                           1                                         \n",
       "Covariance Type:            nonrobust                                         \n",
       "==============================================================================\n",
       "                 coef    std err          t      P>|t|      [95.0% Conf. Int.]\n",
       "------------------------------------------------------------------------------\n",
       "Intercept      0.3333   1.85e-16    1.8e+15      0.000         0.333     0.333\n",
       "v1            -0.3333   3.44e-16   -9.7e+14      0.000        -0.333    -0.333\n",
       "v3             0.6667   2.29e-16   2.91e+15      0.000         0.667     0.667\n",
       "==============================================================================\n",
       "Omnibus:                    17225.930   Durbin-Watson:                   1.021\n",
       "Prob(Omnibus):                  0.000   Jarque-Bera (JB):            33456.389\n",
       "Skew:                           1.664   Prob(JB):                         0.00\n",
       "Kurtosis:                       3.770   Cond. No.                     1.92e+16\n",
       "==============================================================================\n",
       "\n",
       "Warnings:\n",
       "[1] Standard Errors assume that the covariance matrix of the errors is correctly specified.\n",
       "[2] The smallest eigenvalue is 3.25e-28. This might indicate that there are\n",
       "strong multicollinearity problems or that the design matrix is singular.\n",
       "\"\"\""
      ]
     },
     "execution_count": 11,
     "metadata": {},
     "output_type": "execute_result"
    }
   ],
   "source": [
    "## LINEAR REGRESSION IN DEPTH.!!!\n",
    "# a small test to see the imapct of a completrly opposite variable on the values of 'sc'\n",
    "test_df = progresa_df.copy()\n",
    "test_df['v1'] = test_df.sc == 0\n",
    "test_df['v3'] = test_df.sc == 1\n",
    "\n",
    "# v1 has the opposite value of sc.\n",
    "test_df['v1'] = test_df['v1'].map({True : 1, False:0})\n",
    "# v3 has the same value of sc.\n",
    "test_df['v3'] = test_df['v3'].map({True : 1, False:0})\n",
    "\n",
    "# Regression test\n",
    "test_regr = smf.ols(formula='sc ~ v1 + v3', data=test_df).fit()\n",
    "test_regr.summary()"
   ]
  },
  {
   "cell_type": "markdown",
   "metadata": {},
   "source": [
    "### Self intuition.\n",
    "\n",
    "We see here that the coefficient of v1 is -0.3333 and v3 is 0.6667 and the intercept is 0.3333. confirming that negative relation actually means an opposite nature.!"
   ]
  },
  {
   "cell_type": "markdown",
   "metadata": {
    "ein.tags": [
     "worksheet-0"
    ],
    "slideshow": {
     "slide_type": "-"
    }
   },
   "source": [
    "### 2.3 Multiple Regression\n",
    "\n",
    "Re-comuting the above regression estimated by including a set of control variables. Include, for instance, age, distance to a secondary school, gender, education of household head, indigenous, etc.\n"
   ]
  },
  {
   "cell_type": "code",
   "execution_count": 12,
   "metadata": {
    "collapsed": false
   },
   "outputs": [
    {
     "name": "stdout",
     "output_type": "stream",
     "text": [
      "building tree 1 of 40building tree 2 of 40\n",
      "building tree 3 of 40\n",
      "\n",
      "building tree 4 of 40\n",
      "building tree 5 of 40\n",
      "building tree 6 of 40\n",
      "building tree 7 of 40\n",
      "building tree 8 of 40\n",
      "building tree 9 of 40\n",
      "building tree 10 of 40\n",
      "building tree 11 of 40\n",
      "building tree 12 of 40\n",
      "building tree 13 of 40\n",
      "building tree 14 of 40\n",
      "building tree 15 of 40\n",
      "building tree 16 of 40\n",
      "building tree 17 of 40\n",
      "building tree 18 of 40\n",
      "building tree 19 of 40\n",
      "building tree 20 of 40\n",
      "building tree 21 of 40\n",
      "building tree 22 of 40\n",
      "building tree 23 of 40\n",
      "building tree 24 of 40\n",
      "building tree 25 of 40\n",
      "building tree 26 of 40\n",
      "building tree 27 of 40\n",
      "building tree 28 of 40\n"
     ]
    },
    {
     "name": "stderr",
     "output_type": "stream",
     "text": [
      "[Parallel(n_jobs=-1)]: Done  24 tasks      | elapsed:    3.6s\n"
     ]
    },
    {
     "name": "stdout",
     "output_type": "stream",
     "text": [
      "building tree 29 of 40\n",
      "building tree 30 of 40\n",
      "building tree 31 of 40\n",
      "building tree 32 of 40\n",
      "building tree 33 of 40\n",
      "building tree 34 of 40\n",
      "building tree 35 of 40\n",
      "building tree 36 of 40\n",
      "building tree 37 of 40\n",
      "building tree 38 of 40\n",
      "building tree 39 of 40\n",
      "building tree 40 of 40\n"
     ]
    },
    {
     "name": "stderr",
     "output_type": "stream",
     "text": [
      "[Parallel(n_jobs=-1)]: Done  40 out of  40 | elapsed:    6.4s finished\n"
     ]
    },
    {
     "data": {
      "text/plain": [
       "<matplotlib.text.Text at 0x1dbdd8087f0>"
      ]
     },
     "execution_count": 12,
     "metadata": {},
     "output_type": "execute_result"
    },
    {
     "data": {
      "image/png": "[encoded data removed]",
      "text/plain": [
       "<matplotlib.figure.Figure at 0x1dbddf4e2b0>"
      ]
     },
     "metadata": {},
     "output_type": "display_data"
    }
   ],
   "source": [
    "## RF feature grades\n",
    "\n",
    "from sklearn.ensemble import RandomForestRegressor\n",
    "import seaborn as sns\n",
    "\n",
    "\n",
    "test_df2 = test_df.dropna()\n",
    "X = test_df2.drop(['sc', 'folnum', 'village', 'v1', 'v3', 'sc97'], 1)\n",
    "Y = test_df2.sc\n",
    "\n",
    "rf = RandomForestRegressor(n_jobs=-1, n_estimators=40, verbose=3)\n",
    "rf.fit(X,Y)\n",
    "# create a feature vs ranking table\n",
    "rank_table = pd.DataFrame(columns = ['Features', 'Rank'])\n",
    "rank_table['Features'] = X.columns\n",
    "rank_table['Rank'] = rf.feature_importances_\n",
    "\n",
    "# plotting the ranking graphically\n",
    "rank_table = rank_table.sort('Rank', ascending=False)\n",
    "\n",
    "rank_fig = sns.factorplot(x=\"Rank\", y=\"Features\", data = rank_table, kind=\"bar\", size=4, aspect=1.9, palette='coolwarm')\n",
    "sns.plt.title('Random Forest Rank of the features')\n",
    "# rank_fig.savefig(\"Ranking of Features.png\")"
   ]
  },
  {
   "cell_type": "code",
   "execution_count": 13,
   "metadata": {
    "autoscroll": "json-false",
    "collapsed": false,
    "ein.tags": [
     "worksheet-0"
    ],
    "slideshow": {
     "slide_type": "-"
    }
   },
   "outputs": [
    {
     "data": {
      "text/html": [
       "<table class=\"simpletable\">\n",
       "<caption>OLS Regression Results</caption>\n",
       "<tr>\n",
       "  <th>Dep. Variable:</th>           <td>sc</td>        <th>  R-squared:         </th> <td>   0.297</td> \n",
       "</tr>\n",
       "<tr>\n",
       "  <th>Model:</th>                   <td>OLS</td>       <th>  Adj. R-squared:    </th> <td>   0.297</td> \n",
       "</tr>\n",
       "<tr>\n",
       "  <th>Method:</th>             <td>Least Squares</td>  <th>  F-statistic:       </th> <td>   1926.</td> \n",
       "</tr>\n",
       "<tr>\n",
       "  <th>Date:</th>             <td>Mon, 08 May 2017</td> <th>  Prob (F-statistic):</th>  <td>  0.00</td>  \n",
       "</tr>\n",
       "<tr>\n",
       "  <th>Time:</th>                 <td>02:19:31</td>     <th>  Log-Likelihood:    </th> <td> -7065.1</td> \n",
       "</tr>\n",
       "<tr>\n",
       "  <th>No. Observations:</th>      <td> 27317</td>      <th>  AIC:               </th> <td>1.414e+04</td>\n",
       "</tr>\n",
       "<tr>\n",
       "  <th>Df Residuals:</th>          <td> 27310</td>      <th>  BIC:               </th> <td>1.420e+04</td>\n",
       "</tr>\n",
       "<tr>\n",
       "  <th>Df Model:</th>              <td>     6</td>      <th>                     </th>     <td> </td>    \n",
       "</tr>\n",
       "<tr>\n",
       "  <th>Covariance Type:</th>      <td>nonrobust</td>    <th>                     </th>     <td> </td>    \n",
       "</tr>\n",
       "</table>\n",
       "<table class=\"simpletable\">\n",
       "<tr>\n",
       "        <td></td>           <th>coef</th>     <th>std err</th>      <th>t</th>      <th>P>|t|</th> <th>[95.0% Conf. Int.]</th> \n",
       "</tr>\n",
       "<tr>\n",
       "  <th>Intercept</th>     <td>    1.6734</td> <td>    0.015</td> <td>  110.323</td> <td> 0.000</td> <td>    1.644     1.703</td>\n",
       "</tr>\n",
       "<tr>\n",
       "  <th>grc</th>           <td>    0.0516</td> <td>    0.001</td> <td>   35.445</td> <td> 0.000</td> <td>    0.049     0.054</td>\n",
       "</tr>\n",
       "<tr>\n",
       "  <th>age</th>           <td>   -0.1002</td> <td>    0.001</td> <td>  -84.262</td> <td> 0.000</td> <td>   -0.103    -0.098</td>\n",
       "</tr>\n",
       "<tr>\n",
       "  <th>welfare_index</th> <td>-2.772e-05</td> <td> 1.68e-05</td> <td>   -1.648</td> <td> 0.099</td> <td>-6.07e-05  5.25e-06</td>\n",
       "</tr>\n",
       "<tr>\n",
       "  <th>dist_cap</th>      <td>    0.0003</td> <td> 3.34e-05</td> <td>    8.089</td> <td> 0.000</td> <td>    0.000     0.000</td>\n",
       "</tr>\n",
       "<tr>\n",
       "  <th>hohedu</th>        <td>    0.0049</td> <td>    0.001</td> <td>    6.356</td> <td> 0.000</td> <td>    0.003     0.006</td>\n",
       "</tr>\n",
       "<tr>\n",
       "  <th>min_dist</th>      <td>    0.0004</td> <td> 6.18e-05</td> <td>    6.049</td> <td> 0.000</td> <td>    0.000     0.000</td>\n",
       "</tr>\n",
       "</table>\n",
       "<table class=\"simpletable\">\n",
       "<tr>\n",
       "  <th>Omnibus:</th>       <td>3378.531</td> <th>  Durbin-Watson:     </th> <td>   1.723</td>\n",
       "</tr>\n",
       "<tr>\n",
       "  <th>Prob(Omnibus):</th>  <td> 0.000</td>  <th>  Jarque-Bera (JB):  </th> <td>4790.406</td>\n",
       "</tr>\n",
       "<tr>\n",
       "  <th>Skew:</th>           <td>-0.968</td>  <th>  Prob(JB):          </th> <td>    0.00</td>\n",
       "</tr>\n",
       "<tr>\n",
       "  <th>Kurtosis:</th>       <td> 3.679</td>  <th>  Cond. No.          </th> <td>5.53e+03</td>\n",
       "</tr>\n",
       "</table>"
      ],
      "text/plain": [
       "<class 'statsmodels.iolib.summary.Summary'>\n",
       "\"\"\"\n",
       "                            OLS Regression Results                            \n",
       "==============================================================================\n",
       "Dep. Variable:                     sc   R-squared:                       0.297\n",
       "Model:                            OLS   Adj. R-squared:                  0.297\n",
       "Method:                 Least Squares   F-statistic:                     1926.\n",
       "Date:                Mon, 08 May 2017   Prob (F-statistic):               0.00\n",
       "Time:                        02:19:31   Log-Likelihood:                -7065.1\n",
       "No. Observations:               27317   AIC:                         1.414e+04\n",
       "Df Residuals:                   27310   BIC:                         1.420e+04\n",
       "Df Model:                           6                                         \n",
       "Covariance Type:            nonrobust                                         \n",
       "=================================================================================\n",
       "                    coef    std err          t      P>|t|      [95.0% Conf. Int.]\n",
       "---------------------------------------------------------------------------------\n",
       "Intercept         1.6734      0.015    110.323      0.000         1.644     1.703\n",
       "grc               0.0516      0.001     35.445      0.000         0.049     0.054\n",
       "age              -0.1002      0.001    -84.262      0.000        -0.103    -0.098\n",
       "welfare_index -2.772e-05   1.68e-05     -1.648      0.099     -6.07e-05  5.25e-06\n",
       "dist_cap          0.0003   3.34e-05      8.089      0.000         0.000     0.000\n",
       "hohedu            0.0049      0.001      6.356      0.000         0.003     0.006\n",
       "min_dist          0.0004   6.18e-05      6.049      0.000         0.000     0.000\n",
       "==============================================================================\n",
       "Omnibus:                     3378.531   Durbin-Watson:                   1.723\n",
       "Prob(Omnibus):                  0.000   Jarque-Bera (JB):             4790.406\n",
       "Skew:                          -0.968   Prob(JB):                         0.00\n",
       "Kurtosis:                       3.679   Cond. No.                     5.53e+03\n",
       "==============================================================================\n",
       "\n",
       "Warnings:\n",
       "[1] Standard Errors assume that the covariance matrix of the errors is correctly specified.\n",
       "[2] The condition number is large, 5.53e+03. This might indicate that there are\n",
       "strong multicollinearity or other numerical problems.\n",
       "\"\"\""
      ]
     },
     "execution_count": 13,
     "metadata": {},
     "output_type": "execute_result"
    }
   ],
   "source": [
    "multi_regr = smf.ols('sc ~ grc + age + welfare_index + dist_cap + hohedu + min_dist', data=en_regr).fit()\n",
    "multi_regr.summary()"
   ]
  },
  {
   "cell_type": "markdown",
   "metadata": {},
   "source": [
    "**Observations:**\n",
    "\n",
    "**How do the controls affect the point estimate of treatment effect?**\n",
    "    The very first effect we can see is the decrease in point estimate of the treatment from 0.00388 ot 0.00356. We can also observe that there are other parameters which exhibit statistically significant effect on the avg. enrollment rate.\n",
    "\n",
    "**How do the controls affect the standard error on the treatment effect?**\n",
    "    The standard error on the treatment has dropped from 0.05 to 0.04, which resonates with the validity of null hypothesis as, with a samller error we have a smaller point estimate of the treatment effect.\n",
    "\n",
    "**How do you interpret the differences (or similarities) between your estimates of 2.2 and 2.3?**\n",
    "    By inclusion of more control variables, the multivariate regression model conform to the prediction of the previous univariate regression model with even better std. error rate. Thus, the inclusion of control varialbles have definitely increased the confidence of accepting the null hypothesis.\n",
    "    Assessing the affect of control variables, Apart from receiving the funds from progresa, we can see that natives are most likely to enroll their kids into a school. This is understood as the natives tend to know their neighbourhood better adn would definitely socialize more. Moreover, we cannot ignore the negative relation of enrollment rate with the child's age. It decreases by 0.0655 for every increment in age. This would mean that the older childeren are less likely to enroll in a school. The only other variable which demonstrates an inverse relation is, without a surprise, distance to secondary school. Lastly, it;s very interesting to see the high value of intercept, almost twice when compared to 2.2 and with similar in it's std. error."
   ]
  },
  {
   "cell_type": "markdown",
   "metadata": {
    "ein.tags": [
     "worksheet-0"
    ],
    "slideshow": {
     "slide_type": "-"
    }
   },
   "source": [
    "### 2.4 Difference-in-Difference, version 1 (tabular)\n",
    "\n",
    "Thus far, we have computed the effects of Progresa by estimating the difference in 1998 enrollment rates across villages. An alternative approach would be to compute the treatment effect using a difference-in-differences framework.\n",
    "\n",
    "Estimating the average treatment effects of the program for poor households using data from 1997 and 1998. Specifically, calculate the difference (between 1997 and 1998) in enrollment rates among poor households in treated villages; then computing the difference (between 1997 and 1998) in enrollment rates among poor households in treated villages. The difference between these two differences is our estimate.\n"
   ]
  },
  {
   "cell_type": "code",
   "execution_count": 14,
   "metadata": {
    "autoscroll": "json-false",
    "collapsed": false,
    "ein.tags": [
     "worksheet-0"
    ],
    "slideshow": {
     "slide_type": "-"
    }
   },
   "outputs": [
    {
     "name": "stdout",
     "output_type": "stream",
     "text": [
      "The Diff-in-Diff estimate is:  0.031331280319323085\n",
      "\n",
      "The Tabular representation of the Differences:\n"
     ]
    },
    {
     "data": {
      "text/html": [
       "<div>\n",
       "<table border=\"1\" class=\"dataframe\">\n",
       "  <thead>\n",
       "    <tr style=\"text-align: right;\">\n",
       "      <th></th>\n",
       "      <th>Avg. Enrollment rate in 97</th>\n",
       "      <th>Avg. Enrollment rate in 98</th>\n",
       "      <th>Difference</th>\n",
       "    </tr>\n",
       "  </thead>\n",
       "  <tbody>\n",
       "    <tr>\n",
       "      <th>Control sample</th>\n",
       "      <td>0.815186</td>\n",
       "      <td>0.807637</td>\n",
       "      <td>-0.00754905</td>\n",
       "    </tr>\n",
       "    <tr>\n",
       "      <th>Treatment sample</th>\n",
       "      <td>0.822697</td>\n",
       "      <td>0.846479</td>\n",
       "      <td>0.0237822</td>\n",
       "    </tr>\n",
       "  </tbody>\n",
       "</table>\n",
       "</div>"
      ],
      "text/plain": [
       "                 Avg. Enrollment rate in 97 Avg. Enrollment rate in 98  \\\n",
       "Control sample                     0.815186                   0.807637   \n",
       "Treatment sample                   0.822697                   0.846479   \n",
       "\n",
       "                  Difference  \n",
       "Control sample   -0.00754905  \n",
       "Treatment sample   0.0237822  "
      ]
     },
     "execution_count": 14,
     "metadata": {},
     "output_type": "execute_result"
    }
   ],
   "source": [
    "# Splitting the control group.\n",
    "en_control_97 = progresa_df[(progresa_df.poor==1) & (progresa_df.progresa==0) & (progresa_df.year==97)] \n",
    "en_control_98 = progresa_df[(progresa_df.poor==1) & (progresa_df.progresa==0) & (progresa_df.year==98)]\n",
    "\n",
    "# SPlitting the treatment group.\n",
    "en_treat_97 = progresa_df[(progresa_df.poor==1) & (progresa_df.progresa==1) & (progresa_df.year==97)]\n",
    "en_treat_98 = progresa_df[(progresa_df.poor==1) & (progresa_df.progresa==1) & (progresa_df.year==98)]\n",
    "\n",
    "# Creating a new Dataframe\n",
    "index = ['Control sample', 'Treatment sample']\n",
    "cols = ['Avg. Enrollment rate in 97', 'Avg. Enrollment rate in 98']\n",
    "new_diff = pd.DataFrame(index = index, columns = cols)\n",
    "\n",
    "# filling in the values\n",
    "new_diff.loc['Control sample', 'Avg. Enrollment rate in 97'] = en_control_97['sc'].mean()\n",
    "new_diff.loc['Control sample', 'Avg. Enrollment rate in 98'] = en_control_98['sc'].mean()\n",
    "new_diff.loc['Treatment sample', 'Avg. Enrollment rate in 97'] = en_treat_97['sc'].mean()\n",
    "new_diff.loc['Treatment sample', 'Avg. Enrollment rate in 98'] = en_treat_98['sc'].mean()\n",
    "\n",
    "new_diff['Difference'] = new_diff['Avg. Enrollment rate in 98'] - new_diff['Avg. Enrollment rate in 97']\n",
    "\n",
    "print(\"The Diff-in-Diff estimate is: \", new_diff.Difference[1] - new_diff.Difference[0])\n",
    "\n",
    "print(\"\\nThe Tabular representation of the Differences:\")\n",
    "new_diff"
   ]
  },
  {
   "cell_type": "markdown",
   "metadata": {},
   "source": [
    "**Observations:**\n",
    "\n",
    "**What is your estimate of the impact, and how does it compare to your earlier (simple difference) results?**\n",
    "    The estimate of the impact is 0.0313. This indicates that the increase in the enrollment rate can be credited to the progresa treatment. The diff-in-diff estimate is lower than the earlier observed point estimate of 0.0388(univariate) and 0.0356(multivariate). Since, the lower multivariate estimate had a better std. error, we could say that the diff-in-diff estimate is more accurate\n",
    "\n",
    "**What is the counterfactual assumption underlying this estimate?**\n",
    "    The counterfactual assumption would be that the avg. enrollment change in the treatment group and control group would be same irrespective of the treatment."
   ]
  },
  {
   "cell_type": "markdown",
   "metadata": {
    "ein.tags": [
     "worksheet-0"
    ],
    "slideshow": {
     "slide_type": "-"
    }
   },
   "source": [
    "### 2.5 Difference-in-Difference, version 1 (regression)\n",
    "\n",
    "Using a regression specification to estimate the average treatment effect of the program (on the poor) in a difference-in-differences framework. Selecting 5 control variables.\n",
    "\n"
   ]
  },
  {
   "cell_type": "code",
   "execution_count": 15,
   "metadata": {
    "autoscroll": "json-false",
    "collapsed": false,
    "ein.tags": [
     "worksheet-0"
    ],
    "slideshow": {
     "slide_type": "-"
    }
   },
   "outputs": [
    {
     "data": {
      "text/html": [
       "<table class=\"simpletable\">\n",
       "<caption>OLS Regression Results</caption>\n",
       "<tr>\n",
       "  <th>Dep. Variable:</th>           <td>sc</td>        <th>  R-squared:         </th> <td>   0.305</td> \n",
       "</tr>\n",
       "<tr>\n",
       "  <th>Model:</th>                   <td>OLS</td>       <th>  Adj. R-squared:    </th> <td>   0.305</td> \n",
       "</tr>\n",
       "<tr>\n",
       "  <th>Method:</th>             <td>Least Squares</td>  <th>  F-statistic:       </th> <td>   3652.</td> \n",
       "</tr>\n",
       "<tr>\n",
       "  <th>Date:</th>             <td>Mon, 08 May 2017</td> <th>  Prob (F-statistic):</th>  <td>  0.00</td>  \n",
       "</tr>\n",
       "<tr>\n",
       "  <th>Time:</th>                 <td>02:19:31</td>     <th>  Log-Likelihood:    </th> <td> -15573.</td> \n",
       "</tr>\n",
       "<tr>\n",
       "  <th>No. Observations:</th>      <td> 58160</td>      <th>  AIC:               </th> <td>3.116e+04</td>\n",
       "</tr>\n",
       "<tr>\n",
       "  <th>Df Residuals:</th>          <td> 58152</td>      <th>  BIC:               </th> <td>3.123e+04</td>\n",
       "</tr>\n",
       "<tr>\n",
       "  <th>Df Model:</th>              <td>     7</td>      <th>                     </th>     <td> </td>    \n",
       "</tr>\n",
       "<tr>\n",
       "  <th>Covariance Type:</th>      <td>nonrobust</td>    <th>                     </th>     <td> </td>    \n",
       "</tr>\n",
       "</table>\n",
       "<table class=\"simpletable\">\n",
       "<tr>\n",
       "         <td></td>            <th>coef</th>     <th>std err</th>      <th>t</th>      <th>P>|t|</th> <th>[95.0% Conf. Int.]</th> \n",
       "</tr>\n",
       "<tr>\n",
       "  <th>Intercept</th>       <td>    1.6217</td> <td>    0.010</td> <td>  156.950</td> <td> 0.000</td> <td>    1.601     1.642</td>\n",
       "</tr>\n",
       "<tr>\n",
       "  <th>progresa:afterT</th> <td>    0.0497</td> <td>    0.003</td> <td>   17.182</td> <td> 0.000</td> <td>    0.044     0.055</td>\n",
       "</tr>\n",
       "<tr>\n",
       "  <th>grc</th>             <td>    0.0489</td> <td>    0.001</td> <td>   48.738</td> <td> 0.000</td> <td>    0.047     0.051</td>\n",
       "</tr>\n",
       "<tr>\n",
       "  <th>age</th>             <td>   -0.0981</td> <td>    0.001</td> <td> -121.366</td> <td> 0.000</td> <td>   -0.100    -0.096</td>\n",
       "</tr>\n",
       "<tr>\n",
       "  <th>welfare_index</th>   <td>-1.739e-05</td> <td> 1.16e-05</td> <td>   -1.494</td> <td> 0.135</td> <td>-4.02e-05  5.42e-06</td>\n",
       "</tr>\n",
       "<tr>\n",
       "  <th>dist_cap</th>        <td>    0.0003</td> <td> 2.31e-05</td> <td>   12.676</td> <td> 0.000</td> <td>    0.000     0.000</td>\n",
       "</tr>\n",
       "<tr>\n",
       "  <th>hohedu</th>          <td>    0.0039</td> <td>    0.001</td> <td>    7.284</td> <td> 0.000</td> <td>    0.003     0.005</td>\n",
       "</tr>\n",
       "<tr>\n",
       "  <th>min_dist</th>        <td>    0.0003</td> <td>  4.3e-05</td> <td>    7.294</td> <td> 0.000</td> <td>    0.000     0.000</td>\n",
       "</tr>\n",
       "</table>\n",
       "<table class=\"simpletable\">\n",
       "<tr>\n",
       "  <th>Omnibus:</th>       <td>6228.807</td> <th>  Durbin-Watson:     </th> <td>   1.507</td>\n",
       "</tr>\n",
       "<tr>\n",
       "  <th>Prob(Omnibus):</th>  <td> 0.000</td>  <th>  Jarque-Bera (JB):  </th> <td>8417.511</td>\n",
       "</tr>\n",
       "<tr>\n",
       "  <th>Skew:</th>           <td>-0.899</td>  <th>  Prob(JB):          </th> <td>    0.00</td>\n",
       "</tr>\n",
       "<tr>\n",
       "  <th>Kurtosis:</th>       <td> 3.494</td>  <th>  Cond. No.          </th> <td>5.46e+03</td>\n",
       "</tr>\n",
       "</table>"
      ],
      "text/plain": [
       "<class 'statsmodels.iolib.summary.Summary'>\n",
       "\"\"\"\n",
       "                            OLS Regression Results                            \n",
       "==============================================================================\n",
       "Dep. Variable:                     sc   R-squared:                       0.305\n",
       "Model:                            OLS   Adj. R-squared:                  0.305\n",
       "Method:                 Least Squares   F-statistic:                     3652.\n",
       "Date:                Mon, 08 May 2017   Prob (F-statistic):               0.00\n",
       "Time:                        02:19:31   Log-Likelihood:                -15573.\n",
       "No. Observations:               58160   AIC:                         3.116e+04\n",
       "Df Residuals:                   58152   BIC:                         3.123e+04\n",
       "Df Model:                           7                                         \n",
       "Covariance Type:            nonrobust                                         \n",
       "===================================================================================\n",
       "                      coef    std err          t      P>|t|      [95.0% Conf. Int.]\n",
       "-----------------------------------------------------------------------------------\n",
       "Intercept           1.6217      0.010    156.950      0.000         1.601     1.642\n",
       "progresa:afterT     0.0497      0.003     17.182      0.000         0.044     0.055\n",
       "grc                 0.0489      0.001     48.738      0.000         0.047     0.051\n",
       "age                -0.0981      0.001   -121.366      0.000        -0.100    -0.096\n",
       "welfare_index   -1.739e-05   1.16e-05     -1.494      0.135     -4.02e-05  5.42e-06\n",
       "dist_cap            0.0003   2.31e-05     12.676      0.000         0.000     0.000\n",
       "hohedu              0.0039      0.001      7.284      0.000         0.003     0.005\n",
       "min_dist            0.0003    4.3e-05      7.294      0.000         0.000     0.000\n",
       "==============================================================================\n",
       "Omnibus:                     6228.807   Durbin-Watson:                   1.507\n",
       "Prob(Omnibus):                  0.000   Jarque-Bera (JB):             8417.511\n",
       "Skew:                          -0.899   Prob(JB):                         0.00\n",
       "Kurtosis:                       3.494   Cond. No.                     5.46e+03\n",
       "==============================================================================\n",
       "\n",
       "Warnings:\n",
       "[1] Standard Errors assume that the covariance matrix of the errors is correctly specified.\n",
       "[2] The condition number is large, 5.46e+03. This might indicate that there are\n",
       "strong multicollinearity or other numerical problems.\n",
       "\"\"\""
      ]
     },
     "execution_count": 15,
     "metadata": {},
     "output_type": "execute_result"
    }
   ],
   "source": [
    "# TO get a separate statistic with respect to the year we create a dependent/correlated variable: afterT (1= after treatment).\n",
    "lm_diff = progresa_df[(progresa_df.poor==1)]\n",
    "lm_diff.loc[lm_diff.year==97, 'afterT'] = 0\n",
    "lm_diff.loc[lm_diff.year==98, 'afterT'] = 1\n",
    "\n",
    "# running a regression model, we'll chose the previously chosen control variables to make the intercept comparable\n",
    "ddregr = smf.ols(formula='sc ~ progresa:afterT + grc + age + welfare_index + dist_cap + hohedu + min_dist', data =lm_diff).fit()\n",
    "ddregr.summary()"
   ]
  },
  {
   "cell_type": "markdown",
   "metadata": {},
   "source": [
    "**OBSERVATIONS:**\n",
    "\n",
    "In order to run the regression test in the diff-in-diff framework we have to consider values of  the feature 'year' interactively with the feature 'progresa' i.e in year=97 vs year=98. We can simply assign 1 and 0 for the year 98 and 97 respectively. This would give us the before and after period. Earlier we considered only the data in the year 1998 which is post treatment.\n",
    "\n",
    "**What is your estimate of the impact of Progresa? Be very specific in interpreting your coefficients and standard errors, and make sure to specify exactly what units you are measuring and estimating.**    \n",
    "    The first and foremost area of interest is the interation variable of year and treatment, progresa:afterT. The value of this estimate is 0.0314 with a standard error of 0.06. This increases the avg enrollement rate by 0.0314. We can also see that the effect of progresa variable is diminished to 0.004. Thereforem the estimate of th impact of progresa will be **0.0043 + 0.0314 x afterT**.\n",
    "    Earlier we compared the effect of progresa in the year 98 which was after treatment, but here, we obtained an estimate by considering the data from both the years and including both the groups of treatment and control. We measured the trends in avg.  enrollment rate with respect to the presence of treatment, and generalized the change as a 3.14% increase. We can also observer here that the combined effect of progresa adn the year has amuch greater impact than progresa in the same model.\n",
    "\n",
    "**How do these estimates of the treatment effect compare to the estimates based on the simple difference?**\n",
    "    The estimate of simple difference was found to be 0.0388 with a standard error of 0.05 whereas the estimated diference found out here using the diff in diff mehtod is lower. We could say the the simple differences has given us a higher value with lesser accuracy and the current method outputs a more accurate lower value.(The current value's accuracy is credited to the better std.  error)\n",
    "\n",
    "**How do these estimates compare to the difference-in-difference estimates from 2.4 above? What accounts for these differences?**\n",
    "    The estimate of the the effect of progresa on the population, by the regression model, is given by the sum of all the values of the coefficient influencing the contol variable 'progresa'. In the previous model we calculated the differences in the both treatment and control group before and after the treatment commenced. The differences in the values isn't significant but in the current method we've considered other control vairables as well as an interation variable of 'progresa' and 'year', which puts us in a more accurate and inclusive estimate.\n",
    "\n",
    "**What is the counterfactual assumption underlying this regression?**\n",
    "    The counter factual assumption would be that, The trends of avg enrollment rate on both the groups will be the same even without the treatment."
   ]
  },
  {
   "cell_type": "markdown",
   "metadata": {
    "ein.tags": [
     "worksheet-0"
    ],
    "slideshow": {
     "slide_type": "-"
    }
   },
   "source": [
    "### 2.6 Difference-in-Difference, version 2\n",
    "\n",
    "In the previous problem, we estimated a difference-in-differences model that compared changes in enrollment rates over time across treatment and control villages. An alternative approach would be to compare enrollment rates in 1998 between poor and non-poor across treatment and control villages. \n"
   ]
  },
  {
   "cell_type": "code",
   "execution_count": 16,
   "metadata": {
    "autoscroll": "json-false",
    "collapsed": false,
    "ein.tags": [
     "worksheet-0"
    ],
    "slideshow": {
     "slide_type": "-"
    }
   },
   "outputs": [
    {
     "data": {
      "text/html": [
       "<table class=\"simpletable\">\n",
       "<caption>OLS Regression Results</caption>\n",
       "<tr>\n",
       "  <th>Dep. Variable:</th>           <td>sc</td>        <th>  R-squared:         </th> <td>   0.276</td> \n",
       "</tr>\n",
       "<tr>\n",
       "  <th>Model:</th>                   <td>OLS</td>       <th>  Adj. R-squared:    </th> <td>   0.276</td> \n",
       "</tr>\n",
       "<tr>\n",
       "  <th>Method:</th>             <td>Least Squares</td>  <th>  F-statistic:       </th> <td>   3273.</td> \n",
       "</tr>\n",
       "<tr>\n",
       "  <th>Date:</th>             <td>Mon, 08 May 2017</td> <th>  Prob (F-statistic):</th>  <td>  0.00</td>  \n",
       "</tr>\n",
       "<tr>\n",
       "  <th>Time:</th>                 <td>02:19:31</td>     <th>  Log-Likelihood:    </th> <td> -20651.</td> \n",
       "</tr>\n",
       "<tr>\n",
       "  <th>No. Observations:</th>      <td> 68543</td>      <th>  AIC:               </th> <td>4.132e+04</td>\n",
       "</tr>\n",
       "<tr>\n",
       "  <th>Df Residuals:</th>          <td> 68534</td>      <th>  BIC:               </th> <td>4.140e+04</td>\n",
       "</tr>\n",
       "<tr>\n",
       "  <th>Df Model:</th>              <td>     8</td>      <th>                     </th>     <td> </td>    \n",
       "</tr>\n",
       "<tr>\n",
       "  <th>Covariance Type:</th>      <td>nonrobust</td>    <th>                     </th>     <td> </td>    \n",
       "</tr>\n",
       "</table>\n",
       "<table class=\"simpletable\">\n",
       "<tr>\n",
       "        <td></td>           <th>coef</th>     <th>std err</th>      <th>t</th>      <th>P>|t|</th> <th>[95.0% Conf. Int.]</th> \n",
       "</tr>\n",
       "<tr>\n",
       "  <th>Intercept</th>     <td>    1.5147</td> <td>    0.008</td> <td>  197.335</td> <td> 0.000</td> <td>    1.500     1.530</td>\n",
       "</tr>\n",
       "<tr>\n",
       "  <th>progresa</th>      <td>    0.0270</td> <td>    0.007</td> <td>    4.124</td> <td> 0.000</td> <td>    0.014     0.040</td>\n",
       "</tr>\n",
       "<tr>\n",
       "  <th>poor</th>          <td>   -0.0103</td> <td>    0.006</td> <td>   -1.841</td> <td> 0.066</td> <td>   -0.021     0.001</td>\n",
       "</tr>\n",
       "<tr>\n",
       "  <th>progresa:poor</th> <td>   -0.0080</td> <td>    0.007</td> <td>   -1.120</td> <td> 0.263</td> <td>   -0.022     0.006</td>\n",
       "</tr>\n",
       "<tr>\n",
       "  <th>age</th>           <td>   -0.0653</td> <td>    0.000</td> <td> -155.008</td> <td> 0.000</td> <td>   -0.066    -0.064</td>\n",
       "</tr>\n",
       "<tr>\n",
       "  <th>dist_sec</th>      <td>   -0.0115</td> <td>    0.001</td> <td>  -19.644</td> <td> 0.000</td> <td>   -0.013    -0.010</td>\n",
       "</tr>\n",
       "<tr>\n",
       "  <th>sex</th>           <td>    0.0333</td> <td>    0.003</td> <td>   13.333</td> <td> 0.000</td> <td>    0.028     0.038</td>\n",
       "</tr>\n",
       "<tr>\n",
       "  <th>hohedu</th>        <td>    0.0082</td> <td>    0.000</td> <td>   17.161</td> <td> 0.000</td> <td>    0.007     0.009</td>\n",
       "</tr>\n",
       "<tr>\n",
       "  <th>indig</th>         <td>    0.0495</td> <td>    0.003</td> <td>   17.788</td> <td> 0.000</td> <td>    0.044     0.055</td>\n",
       "</tr>\n",
       "</table>\n",
       "<table class=\"simpletable\">\n",
       "<tr>\n",
       "  <th>Omnibus:</th>       <td>6126.484</td> <th>  Durbin-Watson:     </th> <td>   1.493</td>\n",
       "</tr>\n",
       "<tr>\n",
       "  <th>Prob(Omnibus):</th>  <td> 0.000</td>  <th>  Jarque-Bera (JB):  </th> <td>7952.798</td>\n",
       "</tr>\n",
       "<tr>\n",
       "  <th>Skew:</th>           <td>-0.834</td>  <th>  Prob(JB):          </th> <td>    0.00</td>\n",
       "</tr>\n",
       "<tr>\n",
       "  <th>Kurtosis:</th>       <td> 2.986</td>  <th>  Cond. No.          </th> <td>    114.</td>\n",
       "</tr>\n",
       "</table>"
      ],
      "text/plain": [
       "<class 'statsmodels.iolib.summary.Summary'>\n",
       "\"\"\"\n",
       "                            OLS Regression Results                            \n",
       "==============================================================================\n",
       "Dep. Variable:                     sc   R-squared:                       0.276\n",
       "Model:                            OLS   Adj. R-squared:                  0.276\n",
       "Method:                 Least Squares   F-statistic:                     3273.\n",
       "Date:                Mon, 08 May 2017   Prob (F-statistic):               0.00\n",
       "Time:                        02:19:31   Log-Likelihood:                -20651.\n",
       "No. Observations:               68543   AIC:                         4.132e+04\n",
       "Df Residuals:                   68534   BIC:                         4.140e+04\n",
       "Df Model:                           8                                         \n",
       "Covariance Type:            nonrobust                                         \n",
       "=================================================================================\n",
       "                    coef    std err          t      P>|t|      [95.0% Conf. Int.]\n",
       "---------------------------------------------------------------------------------\n",
       "Intercept         1.5147      0.008    197.335      0.000         1.500     1.530\n",
       "progresa          0.0270      0.007      4.124      0.000         0.014     0.040\n",
       "poor             -0.0103      0.006     -1.841      0.066        -0.021     0.001\n",
       "progresa:poor    -0.0080      0.007     -1.120      0.263        -0.022     0.006\n",
       "age              -0.0653      0.000   -155.008      0.000        -0.066    -0.064\n",
       "dist_sec         -0.0115      0.001    -19.644      0.000        -0.013    -0.010\n",
       "sex               0.0333      0.003     13.333      0.000         0.028     0.038\n",
       "hohedu            0.0082      0.000     17.161      0.000         0.007     0.009\n",
       "indig             0.0495      0.003     17.788      0.000         0.044     0.055\n",
       "==============================================================================\n",
       "Omnibus:                     6126.484   Durbin-Watson:                   1.493\n",
       "Prob(Omnibus):                  0.000   Jarque-Bera (JB):             7952.798\n",
       "Skew:                          -0.834   Prob(JB):                         0.00\n",
       "Kurtosis:                       2.986   Cond. No.                         114.\n",
       "==============================================================================\n",
       "\n",
       "Warnings:\n",
       "[1] Standard Errors assume that the covariance matrix of the errors is correctly specified.\n",
       "\"\"\""
      ]
     },
     "execution_count": 16,
     "metadata": {},
     "output_type": "execute_result"
    }
   ],
   "source": [
    "# Including the interation variable between the poor and progresa as well.\n",
    "dd_lm2 = smf.ols(formula='sc ~ progresa + poor + progresa:poor + age + dist_sec + sex + hohedu + indig', data = progresa_df).fit()\n",
    "dd_lm2.summary()"
   ]
  },
  {
   "cell_type": "markdown",
   "metadata": {},
   "source": [
    "**OBSERVATIONS:**\n",
    "\n",
    "**How would we estimate this version of the treatment effects in a regression model?**\n",
    "    The effect of treatment, in this model, is given by the sum of coefficients influencing the 'profresa' variable. Here it is **0.027 - 0.008 x poor**, where poor is the value indicating whether the subject is labeed as poor or not.\n",
    "    \n",
    "**What is the counterfactual assumption underlying this regression?**\n",
    "    The counterfactual assumption underlying the regression is that, the changes in avg. enrollment rate is same for 'pobre'(poor) and 'no pobre'(not poor) households even in the absence of treatment.\n",
    "    \n",
    "**How do these treatment effects compare to the estimates above?**\n",
    "    The treatment effects of this estimate is much lower than the one in **2.5**. The combined estimate of the progresa on the avg. enrollment rate here is given by: **0.027 - 0.0080 x poor**. The coefficient of the interation variable of the treatment and the status of the households is negative and almost zero that woudl indicate almost an opposite impact of the variables on the avg. enrollment rate (Tested in the cell before 2.3). Whereas, in the previous estimate of **2.5** we have a much more realistic and accurate measure of the estiamte. \n",
    "    \n",
    "**Discuss some possible explanations for differences or similarities**\n",
    "    This could be because there is no expected effect of the interation of these two variables. This conforms to the progresa model where only the poor households are recipient of the treatment. One other uncanny observation is the negative coefficent of 'poor' because, the household recieves the progresa treatment only when the poor value is 1. There is every reason for this coefficient to be positive, as we would expect that the increase in enrollment rate would be more in poor households.\n"
   ]
  },
  {
   "cell_type": "markdown",
   "metadata": {
    "ein.tags": [
     "worksheet-0"
    ],
    "slideshow": {
     "slide_type": "-"
    }
   },
   "source": [
    "### 2.7 Spillover effects\n",
    "\n",
    "Thus far, we have focused on the impact of PROGRESA on poor households. Repeating the analysis in 2.5, using a double-difference regression to estimate the impact of PROGRESA on non-poor households. In other words, comparing the difference in enrollments between 1997 and 1998 for non-poor households in treatment villages with the difference in enrollments between 1997 and 1998 for non-poor households in control villages.\n"
   ]
  },
  {
   "cell_type": "code",
   "execution_count": 17,
   "metadata": {
    "autoscroll": "json-false",
    "collapsed": false,
    "ein.tags": [
     "worksheet-0"
    ],
    "slideshow": {
     "slide_type": "-"
    }
   },
   "outputs": [
    {
     "name": "stdout",
     "output_type": "stream",
     "text": [
      "Total number of instances where non-poor subjects were also handed the treatment are:  7116\n"
     ]
    },
    {
     "data": {
      "text/html": [
       "<table class=\"simpletable\">\n",
       "<caption>OLS Regression Results</caption>\n",
       "<tr>\n",
       "  <th>Dep. Variable:</th>           <td>sc</td>        <th>  R-squared:         </th> <td>   0.283</td>\n",
       "</tr>\n",
       "<tr>\n",
       "  <th>Model:</th>                   <td>OLS</td>       <th>  Adj. R-squared:    </th> <td>   0.282</td>\n",
       "</tr>\n",
       "<tr>\n",
       "  <th>Method:</th>             <td>Least Squares</td>  <th>  F-statistic:       </th> <td>   681.2</td>\n",
       "</tr>\n",
       "<tr>\n",
       "  <th>Date:</th>             <td>Mon, 08 May 2017</td> <th>  Prob (F-statistic):</th>  <td>  0.00</td> \n",
       "</tr>\n",
       "<tr>\n",
       "  <th>Time:</th>                 <td>02:19:32</td>     <th>  Log-Likelihood:    </th> <td> -3707.6</td>\n",
       "</tr>\n",
       "<tr>\n",
       "  <th>No. Observations:</th>      <td> 10378</td>      <th>  AIC:               </th> <td>   7429.</td>\n",
       "</tr>\n",
       "<tr>\n",
       "  <th>Df Residuals:</th>          <td> 10371</td>      <th>  BIC:               </th> <td>   7480.</td>\n",
       "</tr>\n",
       "<tr>\n",
       "  <th>Df Model:</th>              <td>     6</td>      <th>                     </th>     <td> </td>   \n",
       "</tr>\n",
       "<tr>\n",
       "  <th>Covariance Type:</th>      <td>nonrobust</td>    <th>                     </th>     <td> </td>   \n",
       "</tr>\n",
       "</table>\n",
       "<table class=\"simpletable\">\n",
       "<tr>\n",
       "         <td></td>            <th>coef</th>     <th>std err</th>      <th>t</th>      <th>P>|t|</th> <th>[95.0% Conf. Int.]</th> \n",
       "</tr>\n",
       "<tr>\n",
       "  <th>Intercept</th>       <td>    1.5605</td> <td>    0.016</td> <td>   99.218</td> <td> 0.000</td> <td>    1.530     1.591</td>\n",
       "</tr>\n",
       "<tr>\n",
       "  <th>progresa:afterT</th> <td>    0.0418</td> <td>    0.008</td> <td>    5.451</td> <td> 0.000</td> <td>    0.027     0.057</td>\n",
       "</tr>\n",
       "<tr>\n",
       "  <th>age</th>             <td>   -0.0682</td> <td>    0.001</td> <td>  -59.997</td> <td> 0.000</td> <td>   -0.070    -0.066</td>\n",
       "</tr>\n",
       "<tr>\n",
       "  <th>dist_sec</th>        <td>   -0.0164</td> <td>    0.002</td> <td>   -9.287</td> <td> 0.000</td> <td>   -0.020    -0.013</td>\n",
       "</tr>\n",
       "<tr>\n",
       "  <th>sex</th>             <td>    0.0306</td> <td>    0.007</td> <td>    4.505</td> <td> 0.000</td> <td>    0.017     0.044</td>\n",
       "</tr>\n",
       "<tr>\n",
       "  <th>hohedu</th>          <td>    0.0100</td> <td>    0.001</td> <td>    9.348</td> <td> 0.000</td> <td>    0.008     0.012</td>\n",
       "</tr>\n",
       "<tr>\n",
       "  <th>indig</th>           <td>    0.0395</td> <td>    0.010</td> <td>    3.887</td> <td> 0.000</td> <td>    0.020     0.059</td>\n",
       "</tr>\n",
       "</table>\n",
       "<table class=\"simpletable\">\n",
       "<tr>\n",
       "  <th>Omnibus:</th>       <td>854.918</td> <th>  Durbin-Watson:     </th> <td>   1.491</td> \n",
       "</tr>\n",
       "<tr>\n",
       "  <th>Prob(Omnibus):</th> <td> 0.000</td>  <th>  Jarque-Bera (JB):  </th> <td> 825.719</td> \n",
       "</tr>\n",
       "<tr>\n",
       "  <th>Skew:</th>          <td>-0.632</td>  <th>  Prob(JB):          </th> <td>4.98e-180</td>\n",
       "</tr>\n",
       "<tr>\n",
       "  <th>Kurtosis:</th>      <td> 2.443</td>  <th>  Cond. No.          </th> <td>    60.3</td> \n",
       "</tr>\n",
       "</table>"
      ],
      "text/plain": [
       "<class 'statsmodels.iolib.summary.Summary'>\n",
       "\"\"\"\n",
       "                            OLS Regression Results                            \n",
       "==============================================================================\n",
       "Dep. Variable:                     sc   R-squared:                       0.283\n",
       "Model:                            OLS   Adj. R-squared:                  0.282\n",
       "Method:                 Least Squares   F-statistic:                     681.2\n",
       "Date:                Mon, 08 May 2017   Prob (F-statistic):               0.00\n",
       "Time:                        02:19:32   Log-Likelihood:                -3707.6\n",
       "No. Observations:               10378   AIC:                             7429.\n",
       "Df Residuals:                   10371   BIC:                             7480.\n",
       "Df Model:                           6                                         \n",
       "Covariance Type:            nonrobust                                         \n",
       "===================================================================================\n",
       "                      coef    std err          t      P>|t|      [95.0% Conf. Int.]\n",
       "-----------------------------------------------------------------------------------\n",
       "Intercept           1.5605      0.016     99.218      0.000         1.530     1.591\n",
       "progresa:afterT     0.0418      0.008      5.451      0.000         0.027     0.057\n",
       "age                -0.0682      0.001    -59.997      0.000        -0.070    -0.066\n",
       "dist_sec           -0.0164      0.002     -9.287      0.000        -0.020    -0.013\n",
       "sex                 0.0306      0.007      4.505      0.000         0.017     0.044\n",
       "hohedu              0.0100      0.001      9.348      0.000         0.008     0.012\n",
       "indig               0.0395      0.010      3.887      0.000         0.020     0.059\n",
       "==============================================================================\n",
       "Omnibus:                      854.918   Durbin-Watson:                   1.491\n",
       "Prob(Omnibus):                  0.000   Jarque-Bera (JB):              825.719\n",
       "Skew:                          -0.632   Prob(JB):                    4.98e-180\n",
       "Kurtosis:                       2.443   Cond. No.                         60.3\n",
       "==============================================================================\n",
       "\n",
       "Warnings:\n",
       "[1] Standard Errors assume that the covariance matrix of the errors is correctly specified.\n",
       "\"\"\""
      ]
     },
     "execution_count": 17,
     "metadata": {},
     "output_type": "execute_result"
    }
   ],
   "source": [
    "# TO get a separate statistic with respect to the year we create a dependent/correlated variable: afterT (1= after treatment).\n",
    "lm_diff2 = progresa_df[(progresa_df.poor==0)]\n",
    "lm_diff2.loc[lm_diff2.year==97, 'afterT'] = 0\n",
    "lm_diff2.loc[lm_diff2.year==98, 'afterT'] = 1\n",
    "\n",
    "print(\"Total number of instances where non-poor subjects were also handed the treatment are: \", len(progresa_df[(progresa_df.poor==0) & (progresa_df.progresa==1)]))\n",
    "\n",
    "# running a regression model, we'll chose the previously chosen control variables to make the intercept comparable\n",
    "ddregr2 = smf.ols(formula='sc ~ progresa:afterT + age + dist_sec + sex + hohedu + indig', data =lm_diff2).fit()\n",
    "ddregr2.summary()"
   ]
  },
  {
   "cell_type": "markdown",
   "metadata": {},
   "source": [
    "**OBSERVATIONS:**\n",
    "\n",
    "Here we get the analysis of the non poor households, we can see the diff in diff estimate of the effect progresa has on the avg, enrollment rate. The total estimate is **0.0043 + 0.0314 x afterT**. NOrmally we should not see any effect here, or see lesser effect but, the estimates here are closely relatable to the ones obtained before.\n",
    "\n",
    "**A: Describe one or two reasons why PROGRESA might have impacted non-poor households.**\n",
    "    Firstly, one of the possibility can be the contamination of data i.e. the possibility of families migrating from the control locality to the treatment locality. This could increase their enrollment rate similar to that of treatment but the resulting data would show up on the control side. Second reason could be that the non-poor households could have been sending their childeren to school on noticing it's importance from the perspective of progresa program or could also be a socical competition. This could account towards the increase in the enrollment rate of non poor households.\n",
    "\n",
    "**B: Do you observe any impacts of PROGRESA on the non-poor?**\n",
    "    We have the impact of progresa on the avg. enrollment rate quantified by the sum **0.0043 + 0.0314** when afterT is equal to 1. Therefore, we see a **0.0357** increase in the value of avg. enrollment rate solely due to the dependent coefficients of 'progresa'.\n",
    "\n",
    "**C: What is the identifying assumption that you are using to estimate the impact of PROGRESA on non-poor households.**\n",
    "    The assumption here, that helps in identifying the estimate of impact of progresa on avg. enrollment rate is, that thfe progresa program could've in some way effected those household which were non-poor or, assuming that the effect, of progresa, would've anyways happened even without the treatment actually existing."
   ]
  },
  {
   "cell_type": "markdown",
   "metadata": {
    "ein.tags": [
     "worksheet-0"
    ],
    "slideshow": {
     "slide_type": "-"
    }
   },
   "source": [
    "### 2.8 Summary\n",
    "\n",
    "Based on all the analysis you have undertaken to date, do you thik that Progresa had a causal impact on the enrollment rates of poor households in Mexico?"
   ]
  },
  {
   "cell_type": "markdown",
   "metadata": {
    "autoscroll": "json-false",
    "collapsed": false,
    "ein.tags": [
     "worksheet-0"
    ],
    "slideshow": {
     "slide_type": "-"
    }
   },
   "source": [
    "The progresa program seems to be very good and promising on the paper, moreover the intricacies involved in the project are unique and immune to any political intervention or corruption. Just looking at the final results we can see that there is a statistically significant increase in the enrollment rate across the entire population, treatment and control, poor and non-poor. But is the increase enough.? Now let's summarize the step by step analysis of the internal working of the program.\n",
    "\n",
    "1. The division of population into control and treatment group, even though random, had some statistically significant differences therfore the baseline assumption of both groups being similar was false. This makes the further analysis on those groups not perfectly reliable.\n",
    "\n",
    "2. Secondly, looking the avg. enrollment rate it has increased when we considered the impact by performing multivariate linear regression on progresa, we observed an even more accurate estimate.\n",
    "\n",
    "3. Then we used the Difference in difference mehtod, which even considers the counter facutal assumption of the control group. The estimate dropped. and one performing linear regression in the Diff-in-Diff model we observed that the combined impact of the treatment and the year was much more higher than either alone.\n",
    "\n",
    "Given these above tests whcih were primal of all conducted, The increase in enrollment exists but, in order to assert fair judgement on the Progresa plan we would need some economic details which would give us insight into the profit and loss data. Considering the monetary aspect of any program is paramount, althogh in social terms it can be compared to the amount of effort put into the program and the social benefits recieved from it. This being said, from the analysis it appears that the turnaround of the enrollment rate doesn't do justice to all the amount of subsidy provided to each family. There could be some families that recieved the subsidy but did not enroll their kids into the schools.\n",
    "There's another possibility that the amount of subsidy wasn't enough in terms of quantity because, looking at the data, some of the companies were earning really low and the subsidy would've just helped them making ends meet this could've compelled their childeren to avoid school in order to reduce financial stress."
   ]
  },
  {
   "cell_type": "code",
   "execution_count": 18,
   "metadata": {
    "collapsed": false
   },
   "outputs": [
    {
     "data": {
      "text/html": [
       "<style>\n",
       "\n",
       "html {\n",
       "  font-size: 62.5% !important; }\n",
       "body {\n",
       "  font-size: 1.5em !important; /* currently ems cause chrome bug misinterpreting rems on body element */\n",
       "  line-height: 1.6 !important;\n",
       "  font-weight: 400 !important;\n",
       "  font-family: \"Raleway\", \"HelveticaNeue\", \"Helvetica Neue\", Helvetica, Arial, sans-serif !important;\n",
       "  color: #222 !important; }\n",
       "\n",
       "div{ border-radius: 0px !important;  }\n",
       "div.CodeMirror-sizer{ background: rgb(244, 244, 248) !important; }\n",
       "div.input_area{ background: rgb(244, 244, 248) !important; }\n",
       "\n",
       "div.out_prompt_overlay:hover{ background: rgb(244, 244, 248) !important; }\n",
       "div.input_prompt:hover{ background: rgb(244, 244, 248) !important; }\n",
       "\n",
       "h1, h2, h3, h4, h5, h6 {\n",
       "  color: #333 !important;\n",
       "  margin-top: 0 !important;\n",
       "  margin-bottom: 2rem !important;\n",
       "  font-weight: 300 !important; }\n",
       "h1 { font-size: 4.0rem !important; line-height: 1.2 !important;  letter-spacing: -.1rem !important;}\n",
       "h2 { font-size: 3.6rem !important; line-height: 1.25 !important; letter-spacing: -.1rem !important; }\n",
       "h3 { font-size: 3.0rem !important; line-height: 1.3 !important;  letter-spacing: -.1rem !important; }\n",
       "h4 { font-size: 2.4rem !important; line-height: 1.35 !important; letter-spacing: -.08rem !important; }\n",
       "h5 { font-size: 1.8rem !important; line-height: 1.5 !important;  letter-spacing: -.05rem !important; }\n",
       "h6 { font-size: 1.5rem !important; line-height: 1.6 !important;  letter-spacing: 0 !important; }\n",
       "\n",
       "@media (min-width: 550px) {\n",
       "  h1 { font-size: 5.0rem !important; }\n",
       "  h2 { font-size: 4.2rem !important; }\n",
       "  h3 { font-size: 3.6rem !important; }\n",
       "  h4 { font-size: 3.0rem !important; }\n",
       "  h5 { font-size: 2.4rem !important; }\n",
       "  h6 { font-size: 1.5rem !important; }\n",
       "}\n",
       "\n",
       "p {\n",
       "  margin-top: 0 !important; }\n",
       "  \n",
       "a {\n",
       "  color: #1EAEDB !important; }\n",
       "a:hover {\n",
       "  color: #0FA0CE !important; }\n",
       "  \n",
       "code {\n",
       "  padding: .2rem .5rem !important;\n",
       "  margin: 0 .2rem !important;\n",
       "  font-size: 90% !important;\n",
       "  white-space: nowrap !important;\n",
       "  background: #F1F1F1 !important;\n",
       "  border: 1px solid #E1E1E1 !important;\n",
       "  border-radius: 4px !important; }\n",
       "pre > code {\n",
       "  display: block !important;\n",
       "  padding: 1rem 1.5rem !important;\n",
       "  white-space: pre !important; }\n",
       "  \n",
       "button{ border-radius: 0px !important; }\n",
       ".navbar-inner{ background-image: none !important;  }\n",
       "select, textarea{ border-radius: 0px !important; }\n",
       "\n",
       "</style>"
      ],
      "text/plain": [
       "<IPython.core.display.HTML object>"
      ]
     },
     "metadata": {},
     "output_type": "display_data"
    }
   ],
   "source": [
    "%%HTML\n",
    "<style>\n",
    "\n",
    "html {\n",
    "  font-size: 62.5% !important; }\n",
    "body {\n",
    "  font-size: 1.5em !important; /* currently ems cause chrome bug misinterpreting rems on body element */\n",
    "  line-height: 1.6 !important;\n",
    "  font-weight: 400 !important;\n",
    "  font-family: \"Raleway\", \"HelveticaNeue\", \"Helvetica Neue\", Helvetica, Arial, sans-serif !important;\n",
    "  color: #222 !important; }\n",
    "\n",
    "div{ border-radius: 0px !important;  }\n",
    "div.CodeMirror-sizer{ background: rgb(244, 244, 248) !important; }\n",
    "div.input_area{ background: rgb(244, 244, 248) !important; }\n",
    "\n",
    "div.out_prompt_overlay:hover{ background: rgb(244, 244, 248) !important; }\n",
    "div.input_prompt:hover{ background: rgb(244, 244, 248) !important; }\n",
    "\n",
    "h1, h2, h3, h4, h5, h6 {\n",
    "  color: #333 !important;\n",
    "  margin-top: 0 !important;\n",
    "  margin-bottom: 2rem !important;\n",
    "  font-weight: 300 !important; }\n",
    "h1 { font-size: 4.0rem !important; line-height: 1.2 !important;  letter-spacing: -.1rem !important;}\n",
    "h2 { font-size: 3.6rem !important; line-height: 1.25 !important; letter-spacing: -.1rem !important; }\n",
    "h3 { font-size: 3.0rem !important; line-height: 1.3 !important;  letter-spacing: -.1rem !important; }\n",
    "h4 { font-size: 2.4rem !important; line-height: 1.35 !important; letter-spacing: -.08rem !important; }\n",
    "h5 { font-size: 1.8rem !important; line-height: 1.5 !important;  letter-spacing: -.05rem !important; }\n",
    "h6 { font-size: 1.5rem !important; line-height: 1.6 !important;  letter-spacing: 0 !important; }\n",
    "\n",
    "@media (min-width: 550px) {\n",
    "  h1 { font-size: 5.0rem !important; }\n",
    "  h2 { font-size: 4.2rem !important; }\n",
    "  h3 { font-size: 3.6rem !important; }\n",
    "  h4 { font-size: 3.0rem !important; }\n",
    "  h5 { font-size: 2.4rem !important; }\n",
    "  h6 { font-size: 1.5rem !important; }\n",
    "}\n",
    "\n",
    "p {\n",
    "  margin-top: 0 !important; }\n",
    "  \n",
    "a {\n",
    "  color: #1EAEDB !important; }\n",
    "a:hover {\n",
    "  color: #0FA0CE !important; }\n",
    "  \n",
    "code {\n",
    "  padding: .2rem .5rem !important;\n",
    "  margin: 0 .2rem !important;\n",
    "  font-size: 90% !important;\n",
    "  white-space: nowrap !important;\n",
    "  background: #F1F1F1 !important;\n",
    "  border: 1px solid #E1E1E1 !important;\n",
    "  border-radius: 4px !important; }\n",
    "pre > code {\n",
    "  display: block !important;\n",
    "  padding: 1rem 1.5rem !important;\n",
    "  white-space: pre !important; }\n",
    "  \n",
    "button{ border-radius: 0px !important; }\n",
    ".navbar-inner{ background-image: none !important;  }\n",
    "select, textarea{ border-radius: 0px !important; }\n",
    "\n",
    "</style>"
   ]
  },
  {
   "cell_type": "code",
   "execution_count": null,
   "metadata": {
    "collapsed": true
   },
   "outputs": [],
   "source": []
  }
 ],
 "metadata": {
  "anaconda-cloud": {},
  "kernelspec": {
   "display_name": "Python [default]",
   "language": "python",
   "name": "python3"
  },
  "language_info": {
   "codemirror_mode": {
    "name": "ipython",
    "version": 3
   },
   "file_extension": ".py",
   "mimetype": "text/x-python",
   "name": "python",
   "nbconvert_exporter": "python",
   "pygments_lexer": "ipython3",
   "version": "3.5.2"
  },
  "name": "INFX574-PS2.ipynb"
 },
 "nbformat": 4,
 "nbformat_minor": 2
}
